{
 "cells": [
  {
   "cell_type": "code",
   "execution_count": 11,
   "metadata": {
    "id": "7DAnWbly6pJk"
   },
   "outputs": [],
   "source": [
    "import sys\n",
    "import os\n",
    "import spotipy\n",
    "import spotipy.util as util\n",
    "from spotipy.oauth2 import SpotifyClientCredentials\n",
    "import csv\n",
    "import numpy as np\n",
    "from keras.wrappers.scikit_learn import KerasClassifier\n",
    "from sklearn.model_selection import cross_val_score\n",
    "from sklearn.preprocessing import LabelEncoder\n",
    "from sklearn.model_selection import StratifiedKFold\n",
    "from sklearn.preprocessing import StandardScaler\n",
    "from sklearn.pipeline import Pipeline\n",
    "from keras.models import model_from_json\n",
    "import joblib\n",
    "\n",
    "os.environ['SPOTIPY_CLIENT_ID'] = 'SPOTIPY_CLIENT_ID'\n",
    "os.environ['SPOTIPY_CLIENT_SECRET'] = 'SPOTIPY_CLIENT_SECRET'\n",
    "\n",
    "client_credentials_manager = SpotifyClientCredentials()\n",
    "sp = spotipy.Spotify(client_credentials_manager=client_credentials_manager)"
   ]
  },
  {
   "cell_type": "code",
   "execution_count": null,
   "metadata": {
    "id": "-CrirbKg6pJq"
   },
   "outputs": [],
   "source": [
    "def get_artist(name):\n",
    "    results = sp.search(q='artist:' + name, type='artist')\n",
    "    items = results['artists']['items']\n",
    "    if len(items) > 0:\n",
    "        return items[0]\n",
    "    else:\n",
    "        return None\n",
    "    \n",
    "\n",
    "def get_artist_features(name):\n",
    "    artist = get_artist(name)\n",
    "    results = sp.artist_albums(artist['id'])\n",
    "    albums = results['items']\n",
    "    album_ids = []\n",
    "    for album in albums:\n",
    "        album_ids.append(album['id'])\n",
    "    \n",
    "    # features: valence, acousticness, danceability,\n",
    "    #           energy, instrumentalness, speechiness, & tempo, liveness\n",
    "    features = []\n",
    "    for album_id in album_ids:\n",
    "        results = sp.album_tracks(album_id)\n",
    "        tracks = results['items']\n",
    "\n",
    "        for track in tracks:\n",
    "            audioFeatures = sp.audio_features(track['id'])[0]\n",
    "            pop = sp.track(track['id'])['popularity']\n",
    "            features.append([track['name'], audioFeatures['duration_ms'], audioFeatures['key'], audioFeatures['mode'], \n",
    "                             audioFeatures['time_signature'], audioFeatures['acousticness'], audioFeatures['danceability'], \n",
    "                             audioFeatures['energy'], audioFeatures['instrumentalness'], audioFeatures['liveness'], \n",
    "                             audioFeatures['loudness'], audioFeatures['speechiness'], audioFeatures['valence'], \n",
    "                             audioFeatures['tempo'], pop])\n",
    "\n",
    "    return features\n",
    "\n",
    "def store_artist_features(name):\n",
    "    with open(path_to_artist_info + name + '.csv', 'w', encoding=\"utf-8-sig\", newline='') as csvfile:\n",
    "        features = get_artist_features(name)\n",
    "        writer = csv.writer(csvfile)\n",
    "        writer.writerow(['Name', 'Duration (MS)', 'Key', 'Mode', 'Time Signature', 'Acousticness', 'Danceability', \n",
    "                        'Energy', 'Instrumentalness', 'Liveness', 'Loudness', 'Speechiness', 'Valence', 'Tempo', 'Popularity'])\n",
    "        \n",
    "        for row in features:\n",
    "            writer.writerow(row)"
   ]
  },
  {
   "cell_type": "code",
   "execution_count": null,
   "metadata": {
    "collapsed": true,
    "id": "NVHSXebk6pJs"
   },
   "outputs": [],
   "source": [
    "artistsNG = [\"Fromis_9\", \"Weki Meki\", \"Bolbbalgan4\", \"Gugudan\"]\n",
    "\n",
    "for artist in artists:\n",
    "    store_artist_features(artist)\n",
    "\n",
    "#https://api.spotify.com/v1/tracks/{0PAq1DRlOGBAjXLno94j6b}"
   ]
  },
  {
   "cell_type": "code",
   "execution_count": 7,
   "metadata": {
    "id": "Ka4jAYXeRiCT"
   },
   "outputs": [],
   "source": [
    "path_to_artist_info = '/content/drive/MyDrive/spotify-neural-network-master/'"
   ]
  },
  {
   "cell_type": "code",
   "execution_count": 12,
   "metadata": {
    "id": "90BoomYQ6pJu"
   },
   "outputs": [],
   "source": [
    "name = []\n",
    "duration = []\n",
    "key = []\n",
    "mode = []\n",
    "time_sig = []\n",
    "acousticness = []\n",
    "danceability = []\n",
    "energy = []\n",
    "instrumentalness = []\n",
    "liveness = []\n",
    "loudness = []\n",
    "speechiness = []\n",
    "valence = []\n",
    "tempo = []\n",
    "gender = []\n",
    "group = []\n",
    "popularity = []\n",
    "\n",
    "for artist in artists:\n",
    "    if artist in guys:\n",
    "        group_gender = 'M'\n",
    "    else:\n",
    "        group_gender = 'F'\n",
    "    with open(path_to_artist_info + 'all_artist' + \".csv\", newline='', encoding='utf-8-sig') as csvfile:\n",
    "        has_header = csv.Sniffer().has_header(csvfile.readline())\n",
    "        csvfile.seek(0)  # Rewind.\n",
    "        reader = csv.reader(csvfile)\n",
    "        if has_header:\n",
    "            next(reader)\n",
    "        for row in reader:\n",
    "            if float(row[3]) < 300000:\n",
    "                    name.append(row[0])\n",
    "                    group.append(artist)\n",
    "                    gender.append(group_gender)\n",
    "                    duration.append(float(row[3]))\n",
    "                    key.append(float(row[4]))\n",
    "                    mode.append(float(row[5]))\n",
    "                    time_sig.append(float(row[6]))\n",
    "                    acousticness.append(float(row[7]))\n",
    "                    danceability.append(float(row[8]))\n",
    "                    energy.append(float(row[9]))\n",
    "                    instrumentalness.append(float(row[10]))\n",
    "                    liveness.append(float(row[11]))\n",
    "                    loudness.append(float(row[12]))\n",
    "                    speechiness.append(float(row[13]))\n",
    "                    valence.append(float(row[14]))\n",
    "                    tempo.append(float(row[15]))\n",
    "                    popularity.append(float(row[16]))"
   ]
  },
  {
   "cell_type": "code",
   "execution_count": 13,
   "metadata": {
    "id": "C6ZLuDAO6pJv"
   },
   "outputs": [],
   "source": [
    "with open(\"all_artist.csv\", 'w', newline='', encoding='utf-8-sig') as csvfile:\n",
    "    writer = csv.writer(csvfile)\n",
    "    writer.writerow(['Name of Song', 'Group', 'Gender', 'Duration (MS)', 'Key', 'Mode', 'Time Signature', 'Acousticness', 'Danceability', \n",
    "                        'Energy', 'Instrumentalness', 'Liveness', 'Loudness', 'Speechiness', 'Valence', 'Tempo', 'Popularity'])\n",
    "        \n",
    "    for i in range(len(name)):\n",
    "        writer.writerow([name[i], group[i], gender[i], duration[i], key[i], mode[i], time_sig[i], acousticness[i], \n",
    "                         danceability[i], energy[i], instrumentalness[i], liveness[i], loudness[i], speechiness[i], valence[i], \n",
    "                         tempo[i], popularity[i]])"
   ]
  },
  {
   "cell_type": "code",
   "execution_count": 14,
   "metadata": {
    "id": "B6k4F1eH6pJv"
   },
   "outputs": [],
   "source": [
    "def get_data_by_gender():\n",
    "    audio_features = np.empty((0,13))\n",
    "    gender = np.empty((0,1))\n",
    "    with open(\"/content/drive/MyDrive/spotify-neural-network-master/all_artist.csv\", newline='', encoding='utf-8-sig') as csvfile:\n",
    "        has_header = csv.Sniffer().has_header(csvfile.readline())\n",
    "        csvfile.seek(0)  # Rewind.\n",
    "        reader = csv.reader(csvfile)\n",
    "        if has_header:\n",
    "            next(reader)\n",
    "        for row in reader:\n",
    "            gender = np.append(gender, row[2])\n",
    "            audio_features = np.append(audio_features, [[float(row[3]), float(row[4]), float(row[5]), float(row[6]), float(row[7]), float(row[8]), \n",
    "                                   float(row[9]), float(row[10]), float(row[11]), float(row[12]), float(row[13]), \n",
    "                                   float(row[14]), float(row[15])]], axis=0)\n",
    "    return audio_features, gender\n",
    "\n",
    "def get_data_by_popularity():\n",
    "    audio_features = np.empty((0,13))\n",
    "    pop = np.empty((0,1))\n",
    "    with open(\"/content/drive/MyDrive/spotify-neural-network-master/all_artist.csv\", newline='', encoding='utf-8-sig') as csvfile:\n",
    "        has_header = csv.Sniffer().has_header(csvfile.readline())\n",
    "        csvfile.seek(0)  # Rewind.\n",
    "        reader = csv.reader(csvfile)\n",
    "        if has_header:\n",
    "            next(reader)\n",
    "        for row in reader:\n",
    "            #print(row[1])\n",
    "            pop = np.append(pop, row[16])\n",
    "            audio_features = np.append(audio_features, [[float(row[3]), float(row[4]), float(row[5]), float(row[6]), float(row[7]), float(row[8]), \n",
    "                                   float(row[9]), float(row[10]), float(row[11]), float(row[12]), float(row[13]), \n",
    "                                   float(row[14]), float(row[15])]], axis=0)\n",
    "    return audio_features, pop"
   ]
  },
  {
   "cell_type": "code",
   "execution_count": 15,
   "metadata": {
    "id": "z0Qq3bJd6pJw"
   },
   "outputs": [],
   "source": [
    "from keras import optimizers\n",
    "from keras.metrics import categorical_accuracy\n",
    "from keras.models import Sequential\n",
    "from keras.layers import Dense, Activation\n",
    "from keras.utils import np_utils\n",
    "\n",
    "x1, y1 = get_data_by_gender()\n",
    "encoder = LabelEncoder()\n",
    "encoder.fit(y1)\n",
    "encoded_y1 = encoder.transform(y1)\n",
    "x2, y2 = get_data_by_popularity()"
   ]
  },
  {
   "cell_type": "code",
   "execution_count": 16,
   "metadata": {
    "colab": {
     "base_uri": "https://localhost:8080/"
    },
    "id": "riVJ1yUu6pJx",
    "outputId": "2e9bd766-7afd-419a-b58d-e87781db0cac"
   },
   "outputs": [
    {
     "name": "stderr",
     "output_type": "stream",
     "text": [
      "/usr/local/lib/python3.7/dist-packages/ipykernel_launcher.py:14: DeprecationWarning: KerasClassifier is deprecated, use Sci-Keras (https://github.com/adriangb/scikeras) instead. See https://www.adriangb.com/scikeras/stable/migration.html for help migrating.\n",
      "  \n"
     ]
    }
   ],
   "source": [
    "#gender\n",
    "# baseline model\n",
    "def create_baseline_gender():\n",
    "    # create model\n",
    "    model = Sequential()\n",
    "    model.add(Dense(60, input_dim=13, activation='relu'))\n",
    "    model.add(Dense(1, activation='sigmoid'))\n",
    "    # Compile model\n",
    "    model.compile(loss='binary_crossentropy', optimizer='adam', metrics=['accuracy'])\n",
    "    return model\n",
    "\n",
    "estimators = []\n",
    "estimators.append(('standardize', StandardScaler()))\n",
    "model = KerasClassifier(build_fn=create_baseline_gender, epochs=100, batch_size=5, verbose=1)\n",
    "estimators.append(('mlp', model))\n",
    "pipeline = Pipeline(estimators)\n",
    "#kfold = StratifiedKFold(n_splits=10, shuffle=True)\n",
    "#results = cross_val_score(pipeline, x1, encoded_y1, cv=kfold)\n",
    "#print(\"Standardized: %.2f%% (%.2f%%)\" % (results.mean()*100, results.std()*100))\n",
    "#BASELINE"
   ]
  },
  {
   "cell_type": "code",
   "execution_count": 17,
   "metadata": {
    "colab": {
     "base_uri": "https://localhost:8080/"
    },
    "id": "f3JktrdL6pJy",
    "outputId": "70db33ec-9756-4b95-bb28-19eea8ccc901",
    "scrolled": true
   },
   "outputs": [
    {
     "name": "stdout",
     "output_type": "stream",
     "text": [
      "Epoch 1/100\n",
      "1741/1741 [==============================] - 5s 2ms/step - loss: 0.6346 - accuracy: 0.6282\n",
      "Epoch 2/100\n",
      "1741/1741 [==============================] - 3s 2ms/step - loss: 0.6070 - accuracy: 0.6675\n",
      "Epoch 3/100\n",
      "1741/1741 [==============================] - 3s 2ms/step - loss: 0.5953 - accuracy: 0.6741\n",
      "Epoch 4/100\n",
      "1741/1741 [==============================] - 3s 2ms/step - loss: 0.5882 - accuracy: 0.6786\n",
      "Epoch 5/100\n",
      "1741/1741 [==============================] - 3s 2ms/step - loss: 0.5824 - accuracy: 0.6832\n",
      "Epoch 6/100\n",
      "1741/1741 [==============================] - 3s 2ms/step - loss: 0.5783 - accuracy: 0.6889\n",
      "Epoch 7/100\n",
      "1741/1741 [==============================] - 3s 2ms/step - loss: 0.5743 - accuracy: 0.6908\n",
      "Epoch 8/100\n",
      "1741/1741 [==============================] - 3s 2ms/step - loss: 0.5715 - accuracy: 0.6934\n",
      "Epoch 9/100\n",
      "1741/1741 [==============================] - 3s 2ms/step - loss: 0.5686 - accuracy: 0.6951\n",
      "Epoch 10/100\n",
      "1741/1741 [==============================] - 3s 2ms/step - loss: 0.5653 - accuracy: 0.6988\n",
      "Epoch 11/100\n",
      "1741/1741 [==============================] - 3s 2ms/step - loss: 0.5636 - accuracy: 0.6987\n",
      "Epoch 12/100\n",
      "1741/1741 [==============================] - 3s 2ms/step - loss: 0.5602 - accuracy: 0.7009\n",
      "Epoch 13/100\n",
      "1741/1741 [==============================] - 3s 2ms/step - loss: 0.5578 - accuracy: 0.7042\n",
      "Epoch 14/100\n",
      "1741/1741 [==============================] - 3s 2ms/step - loss: 0.5568 - accuracy: 0.7057\n",
      "Epoch 15/100\n",
      "1741/1741 [==============================] - 3s 2ms/step - loss: 0.5557 - accuracy: 0.7035\n",
      "Epoch 16/100\n",
      "1741/1741 [==============================] - 3s 2ms/step - loss: 0.5527 - accuracy: 0.7078\n",
      "Epoch 17/100\n",
      "1741/1741 [==============================] - 3s 2ms/step - loss: 0.5515 - accuracy: 0.7079\n",
      "Epoch 18/100\n",
      "1741/1741 [==============================] - 3s 2ms/step - loss: 0.5483 - accuracy: 0.7167\n",
      "Epoch 19/100\n",
      "1741/1741 [==============================] - 3s 2ms/step - loss: 0.5470 - accuracy: 0.7137\n",
      "Epoch 20/100\n",
      "1741/1741 [==============================] - 3s 2ms/step - loss: 0.5446 - accuracy: 0.7166\n",
      "Epoch 21/100\n",
      "1741/1741 [==============================] - 3s 2ms/step - loss: 0.5427 - accuracy: 0.7186\n",
      "Epoch 22/100\n",
      "1741/1741 [==============================] - 3s 2ms/step - loss: 0.5408 - accuracy: 0.7193\n",
      "Epoch 23/100\n",
      "1741/1741 [==============================] - 3s 2ms/step - loss: 0.5384 - accuracy: 0.7206\n",
      "Epoch 24/100\n",
      "1741/1741 [==============================] - 3s 2ms/step - loss: 0.5371 - accuracy: 0.7206\n",
      "Epoch 25/100\n",
      "1741/1741 [==============================] - 3s 2ms/step - loss: 0.5357 - accuracy: 0.7235\n",
      "Epoch 26/100\n",
      "1741/1741 [==============================] - 4s 2ms/step - loss: 0.5342 - accuracy: 0.7214\n",
      "Epoch 27/100\n",
      "1741/1741 [==============================] - 4s 2ms/step - loss: 0.5321 - accuracy: 0.7252\n",
      "Epoch 28/100\n",
      "1741/1741 [==============================] - 4s 2ms/step - loss: 0.5307 - accuracy: 0.7202\n",
      "Epoch 29/100\n",
      "1741/1741 [==============================] - 4s 2ms/step - loss: 0.5285 - accuracy: 0.7258\n",
      "Epoch 30/100\n",
      "1741/1741 [==============================] - 3s 2ms/step - loss: 0.5283 - accuracy: 0.7264\n",
      "Epoch 31/100\n",
      "1741/1741 [==============================] - 3s 2ms/step - loss: 0.5260 - accuracy: 0.7255\n",
      "Epoch 32/100\n",
      "1741/1741 [==============================] - 3s 2ms/step - loss: 0.5253 - accuracy: 0.7262\n",
      "Epoch 33/100\n",
      "1741/1741 [==============================] - 3s 2ms/step - loss: 0.5227 - accuracy: 0.7289\n",
      "Epoch 34/100\n",
      "1741/1741 [==============================] - 3s 2ms/step - loss: 0.5219 - accuracy: 0.7304\n",
      "Epoch 35/100\n",
      "1741/1741 [==============================] - 3s 2ms/step - loss: 0.5212 - accuracy: 0.7344\n",
      "Epoch 36/100\n",
      "1741/1741 [==============================] - 3s 2ms/step - loss: 0.5200 - accuracy: 0.7371\n",
      "Epoch 37/100\n",
      "1741/1741 [==============================] - 3s 2ms/step - loss: 0.5184 - accuracy: 0.7375\n",
      "Epoch 38/100\n",
      "1741/1741 [==============================] - 3s 2ms/step - loss: 0.5178 - accuracy: 0.7353\n",
      "Epoch 39/100\n",
      "1741/1741 [==============================] - 3s 2ms/step - loss: 0.5155 - accuracy: 0.7397\n",
      "Epoch 40/100\n",
      "1741/1741 [==============================] - 3s 2ms/step - loss: 0.5155 - accuracy: 0.7335\n",
      "Epoch 41/100\n",
      "1741/1741 [==============================] - 3s 2ms/step - loss: 0.5135 - accuracy: 0.7373\n",
      "Epoch 42/100\n",
      "1741/1741 [==============================] - 3s 2ms/step - loss: 0.5121 - accuracy: 0.7387\n",
      "Epoch 43/100\n",
      "1741/1741 [==============================] - 3s 2ms/step - loss: 0.5111 - accuracy: 0.7418\n",
      "Epoch 44/100\n",
      "1741/1741 [==============================] - 3s 2ms/step - loss: 0.5105 - accuracy: 0.7418\n",
      "Epoch 45/100\n",
      "1741/1741 [==============================] - 3s 2ms/step - loss: 0.5085 - accuracy: 0.7402\n",
      "Epoch 46/100\n",
      "1741/1741 [==============================] - 3s 2ms/step - loss: 0.5076 - accuracy: 0.7424\n",
      "Epoch 47/100\n",
      "1741/1741 [==============================] - 4s 2ms/step - loss: 0.5065 - accuracy: 0.7407\n",
      "Epoch 48/100\n",
      "1741/1741 [==============================] - 3s 2ms/step - loss: 0.5041 - accuracy: 0.7474\n",
      "Epoch 49/100\n",
      "1741/1741 [==============================] - 3s 2ms/step - loss: 0.5042 - accuracy: 0.7440\n",
      "Epoch 50/100\n",
      "1741/1741 [==============================] - 3s 2ms/step - loss: 0.5003 - accuracy: 0.7494\n",
      "Epoch 51/100\n",
      "1741/1741 [==============================] - 3s 2ms/step - loss: 0.5004 - accuracy: 0.7504\n",
      "Epoch 52/100\n",
      "1741/1741 [==============================] - 3s 2ms/step - loss: 0.5010 - accuracy: 0.7460\n",
      "Epoch 53/100\n",
      "1741/1741 [==============================] - 3s 2ms/step - loss: 0.4992 - accuracy: 0.7502\n",
      "Epoch 54/100\n",
      "1741/1741 [==============================] - 3s 2ms/step - loss: 0.4979 - accuracy: 0.7490\n",
      "Epoch 55/100\n",
      "1741/1741 [==============================] - 3s 2ms/step - loss: 0.4962 - accuracy: 0.7549\n",
      "Epoch 56/100\n",
      "1741/1741 [==============================] - 3s 2ms/step - loss: 0.4948 - accuracy: 0.7501\n",
      "Epoch 57/100\n",
      "1741/1741 [==============================] - 3s 2ms/step - loss: 0.4964 - accuracy: 0.7533\n",
      "Epoch 58/100\n",
      "1741/1741 [==============================] - 3s 2ms/step - loss: 0.4950 - accuracy: 0.7509\n",
      "Epoch 59/100\n",
      "1741/1741 [==============================] - 3s 2ms/step - loss: 0.4920 - accuracy: 0.7509\n",
      "Epoch 60/100\n",
      "1741/1741 [==============================] - 3s 2ms/step - loss: 0.4927 - accuracy: 0.7525\n",
      "Epoch 61/100\n",
      "1741/1741 [==============================] - 3s 2ms/step - loss: 0.4924 - accuracy: 0.7502\n",
      "Epoch 62/100\n",
      "1741/1741 [==============================] - 3s 2ms/step - loss: 0.4907 - accuracy: 0.7535\n",
      "Epoch 63/100\n",
      "1741/1741 [==============================] - 3s 2ms/step - loss: 0.4906 - accuracy: 0.7576\n",
      "Epoch 64/100\n",
      "1741/1741 [==============================] - 3s 2ms/step - loss: 0.4882 - accuracy: 0.7544\n",
      "Epoch 65/100\n",
      "1741/1741 [==============================] - 3s 2ms/step - loss: 0.4892 - accuracy: 0.7579\n",
      "Epoch 66/100\n",
      "1741/1741 [==============================] - 3s 2ms/step - loss: 0.4878 - accuracy: 0.7588\n",
      "Epoch 67/100\n",
      "1741/1741 [==============================] - 3s 2ms/step - loss: 0.4869 - accuracy: 0.7591\n",
      "Epoch 68/100\n",
      "1741/1741 [==============================] - 3s 2ms/step - loss: 0.4877 - accuracy: 0.7551\n",
      "Epoch 69/100\n",
      "1741/1741 [==============================] - 3s 2ms/step - loss: 0.4855 - accuracy: 0.7587\n",
      "Epoch 70/100\n",
      "1741/1741 [==============================] - 3s 2ms/step - loss: 0.4858 - accuracy: 0.7574\n",
      "Epoch 71/100\n",
      "1741/1741 [==============================] - 3s 2ms/step - loss: 0.4839 - accuracy: 0.7572\n",
      "Epoch 72/100\n",
      "1741/1741 [==============================] - 3s 2ms/step - loss: 0.4845 - accuracy: 0.7615\n",
      "Epoch 73/100\n",
      "1741/1741 [==============================] - 3s 2ms/step - loss: 0.4805 - accuracy: 0.7620\n",
      "Epoch 74/100\n",
      "1741/1741 [==============================] - 3s 2ms/step - loss: 0.4816 - accuracy: 0.7625\n",
      "Epoch 75/100\n",
      "1741/1741 [==============================] - 3s 2ms/step - loss: 0.4822 - accuracy: 0.7634\n",
      "Epoch 76/100\n",
      "1741/1741 [==============================] - 3s 2ms/step - loss: 0.4797 - accuracy: 0.7627\n",
      "Epoch 77/100\n",
      "1741/1741 [==============================] - 3s 2ms/step - loss: 0.4790 - accuracy: 0.7629\n",
      "Epoch 78/100\n",
      "1741/1741 [==============================] - 5s 3ms/step - loss: 0.4801 - accuracy: 0.7667\n",
      "Epoch 79/100\n",
      "1741/1741 [==============================] - 3s 2ms/step - loss: 0.4770 - accuracy: 0.7657\n",
      "Epoch 80/100\n",
      "1741/1741 [==============================] - 3s 2ms/step - loss: 0.4781 - accuracy: 0.7687\n",
      "Epoch 81/100\n",
      "1741/1741 [==============================] - 3s 2ms/step - loss: 0.4771 - accuracy: 0.7658\n",
      "Epoch 82/100\n",
      "1741/1741 [==============================] - 3s 2ms/step - loss: 0.4771 - accuracy: 0.7641\n",
      "Epoch 83/100\n",
      "1741/1741 [==============================] - 3s 2ms/step - loss: 0.4780 - accuracy: 0.7642\n",
      "Epoch 84/100\n",
      "1741/1741 [==============================] - 3s 2ms/step - loss: 0.4753 - accuracy: 0.7645\n",
      "Epoch 85/100\n",
      "1741/1741 [==============================] - 3s 2ms/step - loss: 0.4769 - accuracy: 0.7683\n",
      "Epoch 86/100\n",
      "1741/1741 [==============================] - 3s 2ms/step - loss: 0.4740 - accuracy: 0.7698\n",
      "Epoch 87/100\n",
      "1741/1741 [==============================] - 3s 2ms/step - loss: 0.4766 - accuracy: 0.7642\n",
      "Epoch 88/100\n",
      "1741/1741 [==============================] - 4s 2ms/step - loss: 0.4741 - accuracy: 0.7668\n",
      "Epoch 89/100\n",
      "1741/1741 [==============================] - 4s 2ms/step - loss: 0.4745 - accuracy: 0.7680\n",
      "Epoch 90/100\n",
      "1741/1741 [==============================] - 3s 2ms/step - loss: 0.4753 - accuracy: 0.7634\n",
      "Epoch 91/100\n",
      "1741/1741 [==============================] - 3s 2ms/step - loss: 0.4741 - accuracy: 0.7620\n",
      "Epoch 92/100\n",
      "1741/1741 [==============================] - 3s 2ms/step - loss: 0.4746 - accuracy: 0.7691\n",
      "Epoch 93/100\n",
      "1741/1741 [==============================] - 3s 2ms/step - loss: 0.4727 - accuracy: 0.7721\n",
      "Epoch 94/100\n",
      "1741/1741 [==============================] - 3s 2ms/step - loss: 0.4720 - accuracy: 0.7714\n",
      "Epoch 95/100\n",
      "1741/1741 [==============================] - 3s 2ms/step - loss: 0.4699 - accuracy: 0.7678\n",
      "Epoch 96/100\n",
      "1741/1741 [==============================] - 3s 2ms/step - loss: 0.4699 - accuracy: 0.7730\n",
      "Epoch 97/100\n",
      "1741/1741 [==============================] - 3s 2ms/step - loss: 0.4713 - accuracy: 0.7678\n",
      "Epoch 98/100\n",
      "1741/1741 [==============================] - 3s 2ms/step - loss: 0.4715 - accuracy: 0.7683\n",
      "Epoch 99/100\n",
      "1741/1741 [==============================] - 3s 2ms/step - loss: 0.4700 - accuracy: 0.7738\n",
      "Epoch 100/100\n",
      "1741/1741 [==============================] - 3s 2ms/step - loss: 0.4677 - accuracy: 0.7680\n",
      "INFO:tensorflow:Assets written to: ram://a25f39b1-343a-4c9a-be72-da39588ea325/assets\n"
     ]
    }
   ],
   "source": [
    "#now fit training data\n",
    "fitted = pipeline.fit(x1, encoded_y1)\n",
    "filename = 'finalized_model_gender.sav'\n",
    "joblib.dump(pipeline, filename)\n",
    "predicted = pipeline.predict(x1)"
   ]
  },
  {
   "cell_type": "code",
   "execution_count": 18,
   "metadata": {
    "colab": {
     "base_uri": "https://localhost:8080/"
    },
    "collapsed": true,
    "id": "cP9QcwPx6pJz",
    "outputId": "cc60a929-adac-4a44-b04a-63033605da11"
   },
   "outputs": [
    {
     "name": "stdout",
     "output_type": "stream",
     "text": [
      "[[1]]\n",
      "[[1]]\n",
      "[[1]]\n",
      "[[1]]\n",
      "[[1]]\n",
      "[[1]]\n",
      "[[1]]\n",
      "[[1]]\n",
      "[[1]]\n",
      "[[1]]\n",
      "[[1]]\n",
      "[[1]]\n",
      "[[1]]\n",
      "[[1]]\n",
      "[[1]]\n",
      "[[1]]\n",
      "[[1]]\n",
      "[[1]]\n",
      "[[1]]\n",
      "[[1]]\n",
      "[[1]]\n",
      "[[1]]\n",
      "[[1]]\n",
      "[[1]]\n",
      "[[1]]\n",
      "[[1]]\n",
      "[[1]]\n"
     ]
    }
   ],
   "source": [
    "for i in range(27):\n",
    "    print(pipeline.predict([[i,i,i,i,i,i,i,i,i,i,i,i,i]]))"
   ]
  },
  {
   "cell_type": "code",
   "execution_count": 19,
   "metadata": {
    "id": "JVjYNOGs6pJz"
   },
   "outputs": [],
   "source": [
    "import csv\n",
    "from sklearn import preprocessing\n",
    "def get_data():\n",
    "    excel_file = []\n",
    "    with open(\"/content/drive/MyDrive/spotify-neural-network-master/all_artist.csv\", newline='', encoding='utf-8-sig') as csvfile:\n",
    "        has_header = csv.Sniffer().has_header(csvfile.readline())\n",
    "        csvfile.seek(0)  # Rewind.\n",
    "        reader = csv.reader(csvfile)\n",
    "        if has_header:\n",
    "            next(reader)\n",
    "        for row in reader:\n",
    "            excel_file.append([row[0], row[1], float(row[3]), float(row[4]), float(row[5]), float(row[6]), float(row[7]), float(row[8]), \n",
    "                                   float(row[9]), float(row[10]), float(row[11]), float(row[12]), float(row[13]), \n",
    "                                   float(row[14]), float(row[15])])\n",
    "    return excel_file\n",
    "\n",
    "def sounds_closest_to(f):\n",
    "    durationMM = [5000, 299880.0]\n",
    "    keyMM = [0, 11]\n",
    "    modeMM = [0, 1]\n",
    "    time_sigMM = [0, 5]\n",
    "    acousticnessMM = [0, 0.995]\n",
    "    danceabilityMM = [0.0, 0.954]\n",
    "    energyMM = [0.0116, 0.999]\n",
    "    instrumentalnessMM = [0.0, 0.989]\n",
    "    livenessMM = [0.0, 0.987]\n",
    "    loudnessMM = [-29.375, -0.005]\n",
    "    speechinessMM = [0.0, 0.955]\n",
    "    valenceMM = [0.0, 0.978]\n",
    "    tempoMM = [0.0, 248.052]\n",
    "    mm = [durationMM, keyMM, modeMM, time_sigMM, acousticnessMM, danceabilityMM, energyMM, instrumentalnessMM, livenessMM,\n",
    "          loudnessMM, speechinessMM, valenceMM, tempoMM]\n",
    "    artists = get_data()\n",
    "    least_squares = []\n",
    "    for artist in artists:\n",
    "        ls = 0\n",
    "        for i in range(len(f)):\n",
    "            ls += (normalize(f[i], mm[i]) - normalize(artist[i+2], mm[i]))**2\n",
    "        least_squares.append(ls)\n",
    "    indexOfMin = least_squares.index(min(least_squares))\n",
    "    return artists[indexOfMin][0]\n",
    "\n",
    "def normalize(x, mm):\n",
    "    z = (x-mm[0])/(mm[1] - mm[0])\n",
    "    return z"
   ]
  },
  {
   "cell_type": "code",
   "execution_count": 20,
   "metadata": {
    "colab": {
     "base_uri": "https://localhost:8080/",
     "height": 35
    },
    "id": "pR9QiexM6pJ0",
    "outputId": "c9b539ca-1a44-4c74-c700-b461beb52cce"
   },
   "outputs": [
    {
     "data": {
      "application/vnd.google.colaboratory.intrinsic+json": {
       "type": "string"
      },
      "text/plain": [
       "'Kiss - Live'"
      ]
     },
     "execution_count": 20,
     "metadata": {},
     "output_type": "execute_result"
    }
   ],
   "source": [
    "sounds_closest_to([206187,10,0,4,0.00467,0.771,0.894,0,0.349,-4.981,0.0367,0.584,120.003])"
   ]
  },
  {
   "cell_type": "code",
   "execution_count": 25,
   "metadata": {
    "colab": {
     "base_uri": "https://localhost:8080/",
     "height": 1000
    },
    "id": "Oq1HJrdE6pJ0",
    "outputId": "f12677b7-3a73-450e-9587-f453948224eb",
    "scrolled": true
   },
   "outputs": [
    {
     "name": "stderr",
     "output_type": "stream",
     "text": [
      "/usr/local/lib/python3.7/dist-packages/ipykernel_launcher.py:18: DeprecationWarning: KerasRegressor is deprecated, use Sci-Keras (https://github.com/adriangb/scikeras) instead. See https://www.adriangb.com/scikeras/stable/migration.html for help migrating.\n"
     ]
    },
    {
     "name": "stdout",
     "output_type": "stream",
     "text": [
      "Epoch 1/50\n"
     ]
    },
    {
     "ename": "UnimplementedError",
     "evalue": "ignored",
     "output_type": "error",
     "traceback": [
      "\u001b[0;31m---------------------------------------------------------------------------\u001b[0m",
      "\u001b[0;31mUnimplementedError\u001b[0m                        Traceback (most recent call last)",
      "\u001b[0;32m<ipython-input-25-2ce0f9b83cfb>\u001b[0m in \u001b[0;36m<module>\u001b[0;34m()\u001b[0m\n\u001b[1;32m     18\u001b[0m \u001b[0mestimators\u001b[0m\u001b[0;34m.\u001b[0m\u001b[0mappend\u001b[0m\u001b[0;34m(\u001b[0m\u001b[0;34m(\u001b[0m\u001b[0;34m'mlp'\u001b[0m\u001b[0;34m,\u001b[0m \u001b[0mKerasRegressor\u001b[0m\u001b[0;34m(\u001b[0m\u001b[0mbuild_fn\u001b[0m\u001b[0;34m=\u001b[0m\u001b[0mcreate_baseline_regression\u001b[0m\u001b[0;34m,\u001b[0m \u001b[0mepochs\u001b[0m\u001b[0;34m=\u001b[0m\u001b[0;36m50\u001b[0m\u001b[0;34m,\u001b[0m \u001b[0mbatch_size\u001b[0m\u001b[0;34m=\u001b[0m\u001b[0;36m5\u001b[0m\u001b[0;34m,\u001b[0m \u001b[0mverbose\u001b[0m\u001b[0;34m=\u001b[0m\u001b[0;36m1\u001b[0m\u001b[0;34m)\u001b[0m\u001b[0;34m)\u001b[0m\u001b[0;34m)\u001b[0m\u001b[0;34m\u001b[0m\u001b[0;34m\u001b[0m\u001b[0m\n\u001b[1;32m     19\u001b[0m \u001b[0mpipeline\u001b[0m \u001b[0;34m=\u001b[0m \u001b[0mPipeline\u001b[0m\u001b[0;34m(\u001b[0m\u001b[0mestimators\u001b[0m\u001b[0;34m)\u001b[0m\u001b[0;34m\u001b[0m\u001b[0;34m\u001b[0m\u001b[0m\n\u001b[0;32m---> 20\u001b[0;31m \u001b[0mpipeline\u001b[0m\u001b[0;34m.\u001b[0m\u001b[0mfit\u001b[0m\u001b[0;34m(\u001b[0m\u001b[0mx2\u001b[0m\u001b[0;34m,\u001b[0m \u001b[0my2\u001b[0m\u001b[0;34m)\u001b[0m\u001b[0;34m\u001b[0m\u001b[0;34m\u001b[0m\u001b[0m\n\u001b[0m",
      "\u001b[0;32m/usr/local/lib/python3.7/dist-packages/sklearn/pipeline.py\u001b[0m in \u001b[0;36mfit\u001b[0;34m(self, X, y, **fit_params)\u001b[0m\n\u001b[1;32m    392\u001b[0m             \u001b[0;32mif\u001b[0m \u001b[0mself\u001b[0m\u001b[0;34m.\u001b[0m\u001b[0m_final_estimator\u001b[0m \u001b[0;34m!=\u001b[0m \u001b[0;34m\"passthrough\"\u001b[0m\u001b[0;34m:\u001b[0m\u001b[0;34m\u001b[0m\u001b[0;34m\u001b[0m\u001b[0m\n\u001b[1;32m    393\u001b[0m                 \u001b[0mfit_params_last_step\u001b[0m \u001b[0;34m=\u001b[0m \u001b[0mfit_params_steps\u001b[0m\u001b[0;34m[\u001b[0m\u001b[0mself\u001b[0m\u001b[0;34m.\u001b[0m\u001b[0msteps\u001b[0m\u001b[0;34m[\u001b[0m\u001b[0;34m-\u001b[0m\u001b[0;36m1\u001b[0m\u001b[0;34m]\u001b[0m\u001b[0;34m[\u001b[0m\u001b[0;36m0\u001b[0m\u001b[0;34m]\u001b[0m\u001b[0;34m]\u001b[0m\u001b[0;34m\u001b[0m\u001b[0;34m\u001b[0m\u001b[0m\n\u001b[0;32m--> 394\u001b[0;31m                 \u001b[0mself\u001b[0m\u001b[0;34m.\u001b[0m\u001b[0m_final_estimator\u001b[0m\u001b[0;34m.\u001b[0m\u001b[0mfit\u001b[0m\u001b[0;34m(\u001b[0m\u001b[0mXt\u001b[0m\u001b[0;34m,\u001b[0m \u001b[0my\u001b[0m\u001b[0;34m,\u001b[0m \u001b[0;34m**\u001b[0m\u001b[0mfit_params_last_step\u001b[0m\u001b[0;34m)\u001b[0m\u001b[0;34m\u001b[0m\u001b[0;34m\u001b[0m\u001b[0m\n\u001b[0m\u001b[1;32m    395\u001b[0m \u001b[0;34m\u001b[0m\u001b[0m\n\u001b[1;32m    396\u001b[0m         \u001b[0;32mreturn\u001b[0m \u001b[0mself\u001b[0m\u001b[0;34m\u001b[0m\u001b[0;34m\u001b[0m\u001b[0m\n",
      "\u001b[0;32m/usr/local/lib/python3.7/dist-packages/keras/wrappers/scikit_learn.py\u001b[0m in \u001b[0;36mfit\u001b[0;34m(self, x, y, **kwargs)\u001b[0m\n\u001b[1;32m    162\u001b[0m     \u001b[0mfit_args\u001b[0m\u001b[0;34m.\u001b[0m\u001b[0mupdate\u001b[0m\u001b[0;34m(\u001b[0m\u001b[0mkwargs\u001b[0m\u001b[0;34m)\u001b[0m\u001b[0;34m\u001b[0m\u001b[0;34m\u001b[0m\u001b[0m\n\u001b[1;32m    163\u001b[0m \u001b[0;34m\u001b[0m\u001b[0m\n\u001b[0;32m--> 164\u001b[0;31m     \u001b[0mhistory\u001b[0m \u001b[0;34m=\u001b[0m \u001b[0mself\u001b[0m\u001b[0;34m.\u001b[0m\u001b[0mmodel\u001b[0m\u001b[0;34m.\u001b[0m\u001b[0mfit\u001b[0m\u001b[0;34m(\u001b[0m\u001b[0mx\u001b[0m\u001b[0;34m,\u001b[0m \u001b[0my\u001b[0m\u001b[0;34m,\u001b[0m \u001b[0;34m**\u001b[0m\u001b[0mfit_args\u001b[0m\u001b[0;34m)\u001b[0m\u001b[0;34m\u001b[0m\u001b[0;34m\u001b[0m\u001b[0m\n\u001b[0m\u001b[1;32m    165\u001b[0m \u001b[0;34m\u001b[0m\u001b[0m\n\u001b[1;32m    166\u001b[0m     \u001b[0;32mreturn\u001b[0m \u001b[0mhistory\u001b[0m\u001b[0;34m\u001b[0m\u001b[0;34m\u001b[0m\u001b[0m\n",
      "\u001b[0;32m/usr/local/lib/python3.7/dist-packages/keras/utils/traceback_utils.py\u001b[0m in \u001b[0;36merror_handler\u001b[0;34m(*args, **kwargs)\u001b[0m\n\u001b[1;32m     65\u001b[0m     \u001b[0;32mexcept\u001b[0m \u001b[0mException\u001b[0m \u001b[0;32mas\u001b[0m \u001b[0me\u001b[0m\u001b[0;34m:\u001b[0m  \u001b[0;31m# pylint: disable=broad-except\u001b[0m\u001b[0;34m\u001b[0m\u001b[0;34m\u001b[0m\u001b[0m\n\u001b[1;32m     66\u001b[0m       \u001b[0mfiltered_tb\u001b[0m \u001b[0;34m=\u001b[0m \u001b[0m_process_traceback_frames\u001b[0m\u001b[0;34m(\u001b[0m\u001b[0me\u001b[0m\u001b[0;34m.\u001b[0m\u001b[0m__traceback__\u001b[0m\u001b[0;34m)\u001b[0m\u001b[0;34m\u001b[0m\u001b[0;34m\u001b[0m\u001b[0m\n\u001b[0;32m---> 67\u001b[0;31m       \u001b[0;32mraise\u001b[0m \u001b[0me\u001b[0m\u001b[0;34m.\u001b[0m\u001b[0mwith_traceback\u001b[0m\u001b[0;34m(\u001b[0m\u001b[0mfiltered_tb\u001b[0m\u001b[0;34m)\u001b[0m \u001b[0;32mfrom\u001b[0m \u001b[0;32mNone\u001b[0m\u001b[0;34m\u001b[0m\u001b[0;34m\u001b[0m\u001b[0m\n\u001b[0m\u001b[1;32m     68\u001b[0m     \u001b[0;32mfinally\u001b[0m\u001b[0;34m:\u001b[0m\u001b[0;34m\u001b[0m\u001b[0;34m\u001b[0m\u001b[0m\n\u001b[1;32m     69\u001b[0m       \u001b[0;32mdel\u001b[0m \u001b[0mfiltered_tb\u001b[0m\u001b[0;34m\u001b[0m\u001b[0;34m\u001b[0m\u001b[0m\n",
      "\u001b[0;32m/usr/local/lib/python3.7/dist-packages/tensorflow/python/eager/execute.py\u001b[0m in \u001b[0;36mquick_execute\u001b[0;34m(op_name, num_outputs, inputs, attrs, ctx, name)\u001b[0m\n\u001b[1;32m     53\u001b[0m     \u001b[0mctx\u001b[0m\u001b[0;34m.\u001b[0m\u001b[0mensure_initialized\u001b[0m\u001b[0;34m(\u001b[0m\u001b[0;34m)\u001b[0m\u001b[0;34m\u001b[0m\u001b[0;34m\u001b[0m\u001b[0m\n\u001b[1;32m     54\u001b[0m     tensors = pywrap_tfe.TFE_Py_Execute(ctx._handle, device_name, op_name,\n\u001b[0;32m---> 55\u001b[0;31m                                         inputs, attrs, num_outputs)\n\u001b[0m\u001b[1;32m     56\u001b[0m   \u001b[0;32mexcept\u001b[0m \u001b[0mcore\u001b[0m\u001b[0;34m.\u001b[0m\u001b[0m_NotOkStatusException\u001b[0m \u001b[0;32mas\u001b[0m \u001b[0me\u001b[0m\u001b[0;34m:\u001b[0m\u001b[0;34m\u001b[0m\u001b[0;34m\u001b[0m\u001b[0m\n\u001b[1;32m     57\u001b[0m     \u001b[0;32mif\u001b[0m \u001b[0mname\u001b[0m \u001b[0;32mis\u001b[0m \u001b[0;32mnot\u001b[0m \u001b[0;32mNone\u001b[0m\u001b[0;34m:\u001b[0m\u001b[0;34m\u001b[0m\u001b[0;34m\u001b[0m\u001b[0m\n",
      "\u001b[0;31mUnimplementedError\u001b[0m: Graph execution error:\n\nDetected at node 'mean_squared_error/Cast' defined at (most recent call last):\n    File \"/usr/lib/python3.7/runpy.py\", line 193, in _run_module_as_main\n      \"__main__\", mod_spec)\n    File \"/usr/lib/python3.7/runpy.py\", line 85, in _run_code\n      exec(code, run_globals)\n    File \"/usr/local/lib/python3.7/dist-packages/ipykernel_launcher.py\", line 16, in <module>\n      app.launch_new_instance()\n    File \"/usr/local/lib/python3.7/dist-packages/traitlets/config/application.py\", line 846, in launch_instance\n      app.start()\n    File \"/usr/local/lib/python3.7/dist-packages/ipykernel/kernelapp.py\", line 499, in start\n      self.io_loop.start()\n    File \"/usr/local/lib/python3.7/dist-packages/tornado/platform/asyncio.py\", line 132, in start\n      self.asyncio_loop.run_forever()\n    File \"/usr/lib/python3.7/asyncio/base_events.py\", line 541, in run_forever\n      self._run_once()\n    File \"/usr/lib/python3.7/asyncio/base_events.py\", line 1786, in _run_once\n      handle._run()\n    File \"/usr/lib/python3.7/asyncio/events.py\", line 88, in _run\n      self._context.run(self._callback, *self._args)\n    File \"/usr/local/lib/python3.7/dist-packages/tornado/platform/asyncio.py\", line 122, in _handle_events\n      handler_func(fileobj, events)\n    File \"/usr/local/lib/python3.7/dist-packages/tornado/stack_context.py\", line 300, in null_wrapper\n      return fn(*args, **kwargs)\n    File \"/usr/local/lib/python3.7/dist-packages/zmq/eventloop/zmqstream.py\", line 452, in _handle_events\n      self._handle_recv()\n    File \"/usr/local/lib/python3.7/dist-packages/zmq/eventloop/zmqstream.py\", line 481, in _handle_recv\n      self._run_callback(callback, msg)\n    File \"/usr/local/lib/python3.7/dist-packages/zmq/eventloop/zmqstream.py\", line 431, in _run_callback\n      callback(*args, **kwargs)\n    File \"/usr/local/lib/python3.7/dist-packages/tornado/stack_context.py\", line 300, in null_wrapper\n      return fn(*args, **kwargs)\n    File \"/usr/local/lib/python3.7/dist-packages/ipykernel/kernelbase.py\", line 283, in dispatcher\n      return self.dispatch_shell(stream, msg)\n    File \"/usr/local/lib/python3.7/dist-packages/ipykernel/kernelbase.py\", line 233, in dispatch_shell\n      handler(stream, idents, msg)\n    File \"/usr/local/lib/python3.7/dist-packages/ipykernel/kernelbase.py\", line 399, in execute_request\n      user_expressions, allow_stdin)\n    File \"/usr/local/lib/python3.7/dist-packages/ipykernel/ipkernel.py\", line 208, in do_execute\n      res = shell.run_cell(code, store_history=store_history, silent=silent)\n    File \"/usr/local/lib/python3.7/dist-packages/ipykernel/zmqshell.py\", line 537, in run_cell\n      return super(ZMQInteractiveShell, self).run_cell(*args, **kwargs)\n    File \"/usr/local/lib/python3.7/dist-packages/IPython/core/interactiveshell.py\", line 2718, in run_cell\n      interactivity=interactivity, compiler=compiler, result=result)\n    File \"/usr/local/lib/python3.7/dist-packages/IPython/core/interactiveshell.py\", line 2828, in run_ast_nodes\n      if self.run_code(code, result):\n    File \"/usr/local/lib/python3.7/dist-packages/IPython/core/interactiveshell.py\", line 2882, in run_code\n      exec(code_obj, self.user_global_ns, self.user_ns)\n    File \"<ipython-input-25-2ce0f9b83cfb>\", line 20, in <module>\n      pipeline.fit(x2, y2)\n    File \"/usr/local/lib/python3.7/dist-packages/sklearn/pipeline.py\", line 394, in fit\n      self._final_estimator.fit(Xt, y, **fit_params_last_step)\n    File \"/usr/local/lib/python3.7/dist-packages/keras/wrappers/scikit_learn.py\", line 164, in fit\n      history = self.model.fit(x, y, **fit_args)\n    File \"/usr/local/lib/python3.7/dist-packages/keras/utils/traceback_utils.py\", line 64, in error_handler\n      return fn(*args, **kwargs)\n    File \"/usr/local/lib/python3.7/dist-packages/keras/engine/training.py\", line 1384, in fit\n      tmp_logs = self.train_function(iterator)\n    File \"/usr/local/lib/python3.7/dist-packages/keras/engine/training.py\", line 1021, in train_function\n      return step_function(self, iterator)\n    File \"/usr/local/lib/python3.7/dist-packages/keras/engine/training.py\", line 1010, in step_function\n      outputs = model.distribute_strategy.run(run_step, args=(data,))\n    File \"/usr/local/lib/python3.7/dist-packages/keras/engine/training.py\", line 1000, in run_step\n      outputs = model.train_step(data)\n    File \"/usr/local/lib/python3.7/dist-packages/keras/engine/training.py\", line 860, in train_step\n      loss = self.compute_loss(x, y, y_pred, sample_weight)\n    File \"/usr/local/lib/python3.7/dist-packages/keras/engine/training.py\", line 919, in compute_loss\n      y, y_pred, sample_weight, regularization_losses=self.losses)\n    File \"/usr/local/lib/python3.7/dist-packages/keras/engine/compile_utils.py\", line 201, in __call__\n      loss_value = loss_obj(y_t, y_p, sample_weight=sw)\n    File \"/usr/local/lib/python3.7/dist-packages/keras/losses.py\", line 141, in __call__\n      losses = call_fn(y_true, y_pred)\n    File \"/usr/local/lib/python3.7/dist-packages/keras/losses.py\", line 245, in call\n      return ag_fn(y_true, y_pred, **self._fn_kwargs)\n    File \"/usr/local/lib/python3.7/dist-packages/keras/losses.py\", line 1328, in mean_squared_error\n      y_true = tf.cast(y_true, y_pred.dtype)\nNode: 'mean_squared_error/Cast'\nCast string to float is not supported\n\t [[{{node mean_squared_error/Cast}}]] [Op:__inference_train_function_707086]"
     ]
    }
   ],
   "source": [
    "from keras.models import Sequential\n",
    "from keras.layers import Dense\n",
    "from keras.wrappers.scikit_learn import KerasRegressor\n",
    "from sklearn.model_selection import cross_val_score\n",
    "from sklearn.model_selection import KFold\n",
    "\n",
    "def create_baseline_regression():\n",
    "\n",
    "    model = Sequential()\n",
    "    model.add(Dense(13, input_dim=13, kernel_initializer='normal', activation='relu'))\n",
    "    model.add(Dense(1, kernel_initializer='normal'))\n",
    "    # Compile model\n",
    "    model.compile(loss='mean_squared_error', optimizer='adam')\n",
    "    return model\n",
    "\n",
    "estimators = []\n",
    "estimators.append(('standardize', StandardScaler()))\n",
    "estimators.append(('mlp', KerasRegressor(build_fn=create_baseline_regression, epochs=50, batch_size=5, verbose=1)))\n",
    "pipeline = Pipeline(estimators)\n",
    "pipeline.fit(x2, y2)"
   ]
  },
  {
   "cell_type": "code",
   "execution_count": 26,
   "metadata": {
    "colab": {
     "base_uri": "https://localhost:8080/"
    },
    "id": "rb2yyKpS6pJ1",
    "outputId": "b4f545d5-66b4-4031-cb1c-3fcd0e25cea9"
   },
   "outputs": [
    {
     "name": "stdout",
     "output_type": "stream",
     "text": [
      "1741/1741 [==============================] - 2s 1ms/step\n"
     ]
    },
    {
     "data": {
      "text/plain": [
       "array([-0.06389932, -0.03922752, -0.01197201, ..., -0.0213007 ,\n",
       "       -0.00027984,  0.00545166], dtype=float32)"
      ]
     },
     "execution_count": 26,
     "metadata": {},
     "output_type": "execute_result"
    }
   ],
   "source": [
    "pipeline.predict(x1)"
   ]
  },
  {
   "cell_type": "code",
   "execution_count": null,
   "metadata": {
    "id": "VrT_ERVt6pJ2"
   },
   "outputs": [],
   "source": []
  }
 ],
 "metadata": {
  "colab": {
   "collapsed_sections": [],
   "name": "audio features.ipynb",
   "provenance": []
  },
  "kernelspec": {
   "display_name": "Python 3",
   "language": "python",
   "name": "python3"
  },
  "language_info": {
   "codemirror_mode": {
    "name": "ipython",
    "version": 3
   },
   "file_extension": ".py",
   "mimetype": "text/x-python",
   "name": "python",
   "nbconvert_exporter": "python",
   "pygments_lexer": "ipython3",
   "version": "3.8.5"
  }
 },
 "nbformat": 4,
 "nbformat_minor": 1
}
