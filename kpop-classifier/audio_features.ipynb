{
  "cells": [
    {
      "cell_type": "markdown",
      "metadata": {
        "id": "Ra-4QYlYvTf7"
      },
      "source": [
        "**Here we try to build a model to:**\n",
        "\n",
        "1) Identify the song and artist from its characteristics(musical)\n",
        "\n",
        "2) Identify whether song is by male or female group\n",
        "\n",
        "3) Analyse characteristics of song to determine its popularity"
      ]
    },
    {
      "cell_type": "code",
      "execution_count": null,
      "metadata": {
        "id": "7DAnWbly6pJk"
      },
      "outputs": [],
      "source": [
        "import sys\n",
        "import os\n",
        "import spotipy\n",
        "import spotipy.util as util\n",
        "from spotipy.oauth2 import SpotifyClientCredentials\n",
        "import csv\n",
        "import numpy as np\n",
        "from keras.wrappers.scikit_learn import KerasClassifier\n",
        "from sklearn.model_selection import cross_val_score\n",
        "from sklearn.preprocessing import LabelEncoder\n",
        "from sklearn.model_selection import StratifiedKFold\n",
        "from sklearn.preprocessing import StandardScaler\n",
        "from sklearn.pipeline import Pipeline\n",
        "from keras.models import model_from_json\n",
        "import joblib\n",
        "\n",
        "os.environ['SPOTIPY_CLIENT_ID'] = 'SPOTIPY_CLIENT_ID'\n",
        "os.environ['SPOTIPY_CLIENT_SECRET'] = 'SPOTIPY_CLIENT_SECRET'\n",
        "\n",
        "client_credentials_manager = SpotifyClientCredentials()\n",
        "sp = spotipy.Spotify(client_credentials_manager=client_credentials_manager)"
      ]
    },
    {
      "cell_type": "code",
      "execution_count": null,
      "metadata": {
        "id": "V1iGQr4NZ9lG"
      },
      "outputs": [],
      "source": [
        "artists = [\"BTS\", \"Stray Kids\", \"EXO\", \"Monsta X\", \"NCT 127\", \"SEVENTEEN\", \"BLACKPINK\", \"GOT7\", \"ATEEZ\", \"NCT Dream\", \"TWICE\",\n",
        "            \"SHINee\", \"LOONA\", \"DAY6\", \"Mamamoo\", \"iKON\", \"The Boyz\", \"ITZY\", \"Dreamcatcher\", \"VIXX\", \"Sunmi\", \"Super Junior\",\n",
        "            \"SuperM\", \"X1\", \"Chung Ha\", \"Tomorrow x Together\",  \"GFriend\", \"HyunA\", \"Girls' Generation\", \"B.A.P\", \"BIGBANG\",\n",
        "            \"EXID\", \"IU\", \"A.C.E\", \"WINNER\", \"IZ ONE\", \"f(x)\", \"Wanna One\", \"Everglow\", \"OneUs\", \"Cosmic Girls\", \n",
        "            \"NU EST\", \"TVXQ\", \"(G)I-DLE\", \"Momoland\", \"BtoB\", \"2NE1\", \"INFINITE\", \"OH MY GIRL\", \"S.E.S.\", \"Baby Vox\", \n",
        "            \"Girl’s Day\", \"I.O.I\", \"Apink\", \"Miss A\", \"Brown Eyed Girls\", \"Wonder Girls\", \"Sistar\", \"Lovelyz\", \"CLC\", \"AOA\",\n",
        "            \"HELLOVENUS\", \"TAEYEON\", \"Ailee\", \"HEIZE\", \"Jeong Eun Ji\", \"Fromis_9\", \"Weki Meki\", \"Bolbbalgan4\", \"Gugudan\"]\n",
        "\n",
        "guys = [\"BTS\", \"Stray Kids\", \"EXO\", \"Monsta X\", \"NCT 127\", \"SEVENTEEN\", \"GOT7\", \"ATEEZ\", \"NCT Dream\", \"SHINee\", \"DAY6\", \n",
        "        \"iKON\", \"The Boyz\", \"VIXX\", \"Super Junior\", \"SuperM\", \"X1\", \"Tomorrow x Together\", \"B.A.P\", \"BIGBANG\", \"A.C.E\", \n",
        "        \"WINNER\", \"Wanna One\", \"OneUs\", \"NU EST\", \"TVXQ\", \"BtoB\", \"INFINITE\"]\n",
        "\n",
        "girls = ['BLACKPINK', 'TWICE', 'LOONA', 'Mamamoo', 'ITZY', 'Dreamcatcher', 'Sunmi', 'Chung Ha', 'GFriend', 'HyunA',\n",
        "         \"Girls' Generation\", 'EXID', 'IU', 'IZ ONE', 'f(x)', 'Everglow', 'Cosmic Girls', '(G)I-DLE', 'Momoland',\n",
        "         '2NE1', 'OH MY GIRL', \"S.E.S.\", \"Baby Vox\", \"Girl’s Day\", \"I.O.I\", \"Apink\", \"Miss A\", \"Brown Eyed Girls\", \n",
        "         \"Wonder Girls\", \"Sistar\", \"Lovelyz\", \"CLC\", \"AOA\", \"HELLOVENUS\", \"TAEYEON\", \"Ailee\", \"HEIZE\", \"Jeong Eun Ji\",\n",
        "         \"Fromis_9\", \"Weki Meki\", \"Bolbbalgan4\", \"Gugudan\"]\n",
        "#from Fromis_9\n",
        "\n",
        "path_to_artist_info = \"/usr/local/lib/python3.7/dist-packages/spotipy/artist_info/\""
      ]
    },
    {
      "cell_type": "code",
      "execution_count": null,
      "metadata": {
        "colab": {
          "base_uri": "https://localhost:8080/"
        },
        "id": "LSQppd-7SLft",
        "outputId": "57b2393b-1170-4202-adc0-6bc06a684282"
      },
      "outputs": [
        {
          "name": "stdout",
          "output_type": "stream",
          "text": [
            "Collecting spotipy\n",
            "  Downloading spotipy-2.19.0-py3-none-any.whl (27 kB)\n",
            "Collecting requests>=2.25.0\n",
            "  Downloading requests-2.27.1-py2.py3-none-any.whl (63 kB)\n",
            "\u001b[K     |████████████████████████████████| 63 kB 1.2 MB/s \n",
            "\u001b[?25hRequirement already satisfied: six>=1.15.0 in /usr/local/lib/python3.7/dist-packages (from spotipy) (1.15.0)\n",
            "Collecting urllib3>=1.26.0\n",
            "  Downloading urllib3-1.26.9-py2.py3-none-any.whl (138 kB)\n",
            "\u001b[K     |████████████████████████████████| 138 kB 10.8 MB/s \n",
            "\u001b[?25hRequirement already satisfied: charset-normalizer~=2.0.0 in /usr/local/lib/python3.7/dist-packages (from requests>=2.25.0->spotipy) (2.0.12)\n",
            "Requirement already satisfied: idna<4,>=2.5 in /usr/local/lib/python3.7/dist-packages (from requests>=2.25.0->spotipy) (2.10)\n",
            "Requirement already satisfied: certifi>=2017.4.17 in /usr/local/lib/python3.7/dist-packages (from requests>=2.25.0->spotipy) (2021.10.8)\n",
            "Installing collected packages: urllib3, requests, spotipy\n",
            "  Attempting uninstall: urllib3\n",
            "    Found existing installation: urllib3 1.24.3\n",
            "    Uninstalling urllib3-1.24.3:\n",
            "      Successfully uninstalled urllib3-1.24.3\n",
            "  Attempting uninstall: requests\n",
            "    Found existing installation: requests 2.23.0\n",
            "    Uninstalling requests-2.23.0:\n",
            "      Successfully uninstalled requests-2.23.0\n",
            "\u001b[31mERROR: pip's dependency resolver does not currently take into account all the packages that are installed. This behaviour is the source of the following dependency conflicts.\n",
            "google-colab 1.0.0 requires requests~=2.23.0, but you have requests 2.27.1 which is incompatible.\n",
            "datascience 0.10.6 requires folium==0.2.1, but you have folium 0.8.3 which is incompatible.\u001b[0m\n",
            "Successfully installed requests-2.27.1 spotipy-2.19.0 urllib3-1.26.9\n"
          ]
        }
      ],
      "source": [
        "pip install spotipy"
      ]
    },
    {
      "cell_type": "code",
      "execution_count": null,
      "metadata": {
        "id": "Ka4jAYXeRiCT"
      },
      "outputs": [],
      "source": [
        "path_to_artist_info = '/content/drive/MyDrive/spotify-neural-network-master/'"
      ]
    },
    {
      "cell_type": "code",
      "execution_count": null,
      "metadata": {
        "id": "90BoomYQ6pJu"
      },
      "outputs": [],
      "source": [
        "name = []\n",
        "duration = []\n",
        "key = []\n",
        "mode = []\n",
        "time_sig = []\n",
        "acousticness = []\n",
        "danceability = []\n",
        "energy = []\n",
        "instrumentalness = []\n",
        "liveness = []\n",
        "loudness = []\n",
        "speechiness = []\n",
        "valence = []\n",
        "tempo = []\n",
        "gender = []\n",
        "group = []\n",
        "popularity = []\n",
        "\n",
        "for artist in artists:\n",
        "    if artist in guys:\n",
        "        group_gender = 'M'\n",
        "    else:\n",
        "        group_gender = 'F'\n",
        "    with open(path_to_artist_info + 'all_artist' + \".csv\", newline='', encoding='utf-8-sig') as csvfile:\n",
        "        has_header = csv.Sniffer().has_header(csvfile.readline())\n",
        "        csvfile.seek(0)  # Rewind.\n",
        "        reader = csv.reader(csvfile)\n",
        "        if has_header:\n",
        "            next(reader)\n",
        "        for row in reader:\n",
        "            if float(row[3]) < 300000:\n",
        "                    name.append(row[0])\n",
        "                    group.append(artist)\n",
        "                    gender.append(group_gender)\n",
        "                    duration.append(float(row[3]))\n",
        "                    key.append(float(row[4]))\n",
        "                    mode.append(float(row[5]))\n",
        "                    time_sig.append(float(row[6]))\n",
        "                    acousticness.append(float(row[7]))\n",
        "                    danceability.append(float(row[8]))\n",
        "                    energy.append(float(row[9]))\n",
        "                    instrumentalness.append(float(row[10]))\n",
        "                    liveness.append(float(row[11]))\n",
        "                    loudness.append(float(row[12]))\n",
        "                    speechiness.append(float(row[13]))\n",
        "                    valence.append(float(row[14]))\n",
        "                    tempo.append(float(row[15]))\n",
        "                    popularity.append(float(row[16]))"
      ]
    },
    {
      "cell_type": "code",
      "execution_count": null,
      "metadata": {
        "id": "C6ZLuDAO6pJv"
      },
      "outputs": [],
      "source": [
        "with open(\"all_artist.csv\", 'w', newline='', encoding='utf-8-sig') as csvfile:\n",
        "    writer = csv.writer(csvfile)\n",
        "    writer.writerow(['Name of Song', 'Group', 'Gender', 'Duration (MS)', 'Key', 'Mode', 'Time Signature', 'Acousticness', 'Danceability', \n",
        "                        'Energy', 'Instrumentalness', 'Liveness', 'Loudness', 'Speechiness', 'Valence', 'Tempo', 'Popularity'])\n",
        "        \n",
        "    for i in range(len(name)):\n",
        "        writer.writerow([name[i], group[i], gender[i], duration[i], key[i], mode[i], time_sig[i], acousticness[i], \n",
        "                         danceability[i], energy[i], instrumentalness[i], liveness[i], loudness[i], speechiness[i], valence[i], \n",
        "                         tempo[i], popularity[i]])"
      ]
    },
    {
      "cell_type": "code",
      "execution_count": null,
      "metadata": {
        "id": "B6k4F1eH6pJv"
      },
      "outputs": [],
      "source": [
        "def get_data_by_gender():\n",
        "    audio_features = np.empty((0,13))\n",
        "    gender = np.empty((0,1))\n",
        "    with open(\"/content/drive/MyDrive/spotify-neural-network-master/all_artist.csv\", newline='', encoding='utf-8-sig') as csvfile:\n",
        "        has_header = csv.Sniffer().has_header(csvfile.readline())\n",
        "        csvfile.seek(0)  # Rewind.\n",
        "        reader = csv.reader(csvfile)\n",
        "        if has_header:\n",
        "            next(reader)\n",
        "        for row in reader:\n",
        "            gender = np.append(gender, row[2])\n",
        "            audio_features = np.append(audio_features, [[float(row[3]), float(row[4]), float(row[5]), float(row[6]), float(row[7]), float(row[8]), \n",
        "                                   float(row[9]), float(row[10]), float(row[11]), float(row[12]), float(row[13]), \n",
        "                                   float(row[14]), float(row[15])]], axis=0)\n",
        "    return audio_features, gender\n",
        "\n",
        "def get_data_by_popularity():\n",
        "    audio_features = np.empty((0,13))\n",
        "    pop = np.empty((0,1))\n",
        "    with open(\"/content/drive/MyDrive/spotify-neural-network-master/all_artist.csv\", newline='', encoding='utf-8-sig') as csvfile:\n",
        "        has_header = csv.Sniffer().has_header(csvfile.readline())\n",
        "        csvfile.seek(0)  # Rewind.\n",
        "        reader = csv.reader(csvfile)\n",
        "        if has_header:\n",
        "            next(reader)\n",
        "        for row in reader:\n",
        "            #print(row[1])\n",
        "            pop = np.append(pop, row[16])\n",
        "            audio_features = np.append(audio_features, [[float(row[3]), float(row[4]), float(row[5]), float(row[6]), float(row[7]), float(row[8]), \n",
        "                                   float(row[9]), float(row[10]), float(row[11]), float(row[12]), float(row[13]), \n",
        "                                   float(row[14]), float(row[15])]], axis=0)\n",
        "    return audio_features, pop"
      ]
    },
    {
      "cell_type": "code",
      "execution_count": null,
      "metadata": {
        "id": "z0Qq3bJd6pJw"
      },
      "outputs": [],
      "source": [
        "from keras import optimizers\n",
        "from keras.metrics import categorical_accuracy\n",
        "from keras.models import Sequential\n",
        "from keras.layers import Dense, Activation\n",
        "from keras.utils import np_utils\n",
        "\n",
        "x1, y1 = get_data_by_gender()\n",
        "encoder = LabelEncoder()\n",
        "encoder.fit(y1)\n",
        "encoded_y1 = encoder.transform(y1)\n",
        "x2, y2 = get_data_by_popularity()"
      ]
    },
    {
      "cell_type": "code",
      "execution_count": null,
      "metadata": {
        "colab": {
          "base_uri": "https://localhost:8080/"
        },
        "id": "riVJ1yUu6pJx",
        "outputId": "93df60d2-70fa-4942-de44-ef8e13d9411c"
      },
      "outputs": [
        {
          "name": "stderr",
          "output_type": "stream",
          "text": [
            "/usr/local/lib/python3.7/dist-packages/ipykernel_launcher.py:14: DeprecationWarning: KerasClassifier is deprecated, use Sci-Keras (https://github.com/adriangb/scikeras) instead. See https://www.adriangb.com/scikeras/stable/migration.html for help migrating.\n",
            "  \n"
          ]
        }
      ],
      "source": [
        "#gender\n",
        "# baseline model\n",
        "def create_baseline_gender():\n",
        "    # create model\n",
        "    model = Sequential()\n",
        "    model.add(Dense(60, input_dim=13, activation='relu'))\n",
        "    model.add(Dense(1, activation='sigmoid'))\n",
        "    # Compile model\n",
        "    model.compile(loss='binary_crossentropy', optimizer='adam', metrics=['accuracy'])\n",
        "    return model\n",
        "\n",
        "estimators = []\n",
        "estimators.append(('standardize', StandardScaler()))\n",
        "model = KerasClassifier(build_fn=create_baseline_gender, epochs=200, batch_size=5, verbose=1)\n",
        "estimators.append(('mlp', model))\n",
        "pipeline = Pipeline(estimators)\n",
        "#kfold = StratifiedKFold(n_splits=10, shuffle=True)\n",
        "#results = cross_val_score(pipeline, x1, encoded_y1, cv=kfold)\n",
        "#print(\"Standardized: %.2f%% (%.2f%%)\" % (results.mean()*100, results.std()*100))\n",
        "#BASELINE"
      ]
    },
    {
      "cell_type": "code",
      "execution_count": null,
      "metadata": {
        "colab": {
          "base_uri": "https://localhost:8080/"
        },
        "id": "f3JktrdL6pJy",
        "outputId": "e6749ef6-ca2e-4245-da75-bc2d4484b3ac",
        "scrolled": true
      },
      "outputs": [
        {
          "name": "stdout",
          "output_type": "stream",
          "text": [
            "Epoch 1/200\n",
            "1741/1741 [==============================] - 4s 2ms/step - loss: 0.6346 - accuracy: 0.6339\n",
            "Epoch 2/200\n",
            "1741/1741 [==============================] - 3s 2ms/step - loss: 0.6056 - accuracy: 0.6657\n",
            "Epoch 3/200\n",
            "1741/1741 [==============================] - 3s 2ms/step - loss: 0.5925 - accuracy: 0.6734\n",
            "Epoch 4/200\n",
            "1741/1741 [==============================] - 3s 2ms/step - loss: 0.5854 - accuracy: 0.6809\n",
            "Epoch 5/200\n",
            "1741/1741 [==============================] - 3s 2ms/step - loss: 0.5791 - accuracy: 0.6823\n",
            "Epoch 6/200\n",
            "1741/1741 [==============================] - 3s 2ms/step - loss: 0.5750 - accuracy: 0.6854\n",
            "Epoch 7/200\n",
            "1741/1741 [==============================] - 3s 2ms/step - loss: 0.5716 - accuracy: 0.6933\n",
            "Epoch 8/200\n",
            "1741/1741 [==============================] - 3s 2ms/step - loss: 0.5685 - accuracy: 0.6949\n",
            "Epoch 9/200\n",
            "1741/1741 [==============================] - 3s 2ms/step - loss: 0.5658 - accuracy: 0.6970\n",
            "Epoch 10/200\n",
            "1741/1741 [==============================] - 3s 2ms/step - loss: 0.5628 - accuracy: 0.7004\n",
            "Epoch 11/200\n",
            "1741/1741 [==============================] - 3s 2ms/step - loss: 0.5602 - accuracy: 0.7004\n",
            "Epoch 12/200\n",
            "1741/1741 [==============================] - 4s 2ms/step - loss: 0.5581 - accuracy: 0.7019\n",
            "Epoch 13/200\n",
            "1741/1741 [==============================] - 3s 2ms/step - loss: 0.5555 - accuracy: 0.7057\n",
            "Epoch 14/200\n",
            "1741/1741 [==============================] - 3s 2ms/step - loss: 0.5536 - accuracy: 0.7068\n",
            "Epoch 15/200\n",
            "1741/1741 [==============================] - 3s 2ms/step - loss: 0.5523 - accuracy: 0.7062\n",
            "Epoch 16/200\n",
            "1741/1741 [==============================] - 3s 2ms/step - loss: 0.5493 - accuracy: 0.7135\n",
            "Epoch 17/200\n",
            "1741/1741 [==============================] - 3s 2ms/step - loss: 0.5480 - accuracy: 0.7129\n",
            "Epoch 18/200\n",
            "1741/1741 [==============================] - 3s 2ms/step - loss: 0.5465 - accuracy: 0.7110\n",
            "Epoch 19/200\n",
            "1741/1741 [==============================] - 3s 2ms/step - loss: 0.5453 - accuracy: 0.7132\n",
            "Epoch 20/200\n",
            "1741/1741 [==============================] - 3s 2ms/step - loss: 0.5423 - accuracy: 0.7182\n",
            "Epoch 21/200\n",
            "1741/1741 [==============================] - 3s 2ms/step - loss: 0.5410 - accuracy: 0.7167\n",
            "Epoch 22/200\n",
            "1741/1741 [==============================] - 3s 2ms/step - loss: 0.5403 - accuracy: 0.7151\n",
            "Epoch 23/200\n",
            "1741/1741 [==============================] - 3s 2ms/step - loss: 0.5390 - accuracy: 0.7171\n",
            "Epoch 24/200\n",
            "1741/1741 [==============================] - 3s 2ms/step - loss: 0.5368 - accuracy: 0.7189\n",
            "Epoch 25/200\n",
            "1741/1741 [==============================] - 3s 2ms/step - loss: 0.5338 - accuracy: 0.7226\n",
            "Epoch 26/200\n",
            "1741/1741 [==============================] - 3s 2ms/step - loss: 0.5326 - accuracy: 0.7216\n",
            "Epoch 27/200\n",
            "1741/1741 [==============================] - 3s 2ms/step - loss: 0.5319 - accuracy: 0.7280\n",
            "Epoch 28/200\n",
            "1741/1741 [==============================] - 3s 2ms/step - loss: 0.5291 - accuracy: 0.7257\n",
            "Epoch 29/200\n",
            "1741/1741 [==============================] - 4s 2ms/step - loss: 0.5271 - accuracy: 0.7266\n",
            "Epoch 30/200\n",
            "1741/1741 [==============================] - 3s 2ms/step - loss: 0.5264 - accuracy: 0.7256\n",
            "Epoch 31/200\n",
            "1741/1741 [==============================] - 3s 2ms/step - loss: 0.5258 - accuracy: 0.7293\n",
            "Epoch 32/200\n",
            "1741/1741 [==============================] - 3s 2ms/step - loss: 0.5242 - accuracy: 0.7305\n",
            "Epoch 33/200\n",
            "1741/1741 [==============================] - 4s 2ms/step - loss: 0.5230 - accuracy: 0.7326\n",
            "Epoch 34/200\n",
            "1741/1741 [==============================] - 4s 2ms/step - loss: 0.5218 - accuracy: 0.7343\n",
            "Epoch 35/200\n",
            "1741/1741 [==============================] - 3s 2ms/step - loss: 0.5184 - accuracy: 0.7326\n",
            "Epoch 36/200\n",
            "1741/1741 [==============================] - 3s 2ms/step - loss: 0.5184 - accuracy: 0.7371\n",
            "Epoch 37/200\n",
            "1741/1741 [==============================] - 3s 2ms/step - loss: 0.5169 - accuracy: 0.7390\n",
            "Epoch 38/200\n",
            "1741/1741 [==============================] - 4s 2ms/step - loss: 0.5164 - accuracy: 0.7356\n",
            "Epoch 39/200\n",
            "1741/1741 [==============================] - 4s 2ms/step - loss: 0.5153 - accuracy: 0.7373\n",
            "Epoch 40/200\n",
            "1741/1741 [==============================] - 4s 2ms/step - loss: 0.5124 - accuracy: 0.7427\n",
            "Epoch 41/200\n",
            "1741/1741 [==============================] - 3s 2ms/step - loss: 0.5107 - accuracy: 0.7371\n",
            "Epoch 42/200\n",
            "1741/1741 [==============================] - 4s 2ms/step - loss: 0.5100 - accuracy: 0.7417\n",
            "Epoch 43/200\n",
            "1741/1741 [==============================] - 4s 2ms/step - loss: 0.5097 - accuracy: 0.7403\n",
            "Epoch 44/200\n",
            "1741/1741 [==============================] - 3s 2ms/step - loss: 0.5064 - accuracy: 0.7463\n",
            "Epoch 45/200\n",
            "1741/1741 [==============================] - 3s 2ms/step - loss: 0.5073 - accuracy: 0.7425\n",
            "Epoch 46/200\n",
            "1741/1741 [==============================] - 3s 2ms/step - loss: 0.5068 - accuracy: 0.7425\n",
            "Epoch 47/200\n",
            "1741/1741 [==============================] - 3s 2ms/step - loss: 0.5057 - accuracy: 0.7476\n",
            "Epoch 48/200\n",
            "1741/1741 [==============================] - 3s 2ms/step - loss: 0.5025 - accuracy: 0.7467\n",
            "Epoch 49/200\n",
            "1741/1741 [==============================] - 4s 2ms/step - loss: 0.5025 - accuracy: 0.7457\n",
            "Epoch 50/200\n",
            "1741/1741 [==============================] - 4s 2ms/step - loss: 0.5008 - accuracy: 0.7474\n",
            "Epoch 51/200\n",
            "1741/1741 [==============================] - 4s 2ms/step - loss: 0.5007 - accuracy: 0.7489\n",
            "Epoch 52/200\n",
            "1741/1741 [==============================] - 3s 2ms/step - loss: 0.4998 - accuracy: 0.7502\n",
            "Epoch 53/200\n",
            "1741/1741 [==============================] - 3s 2ms/step - loss: 0.4984 - accuracy: 0.7497\n",
            "Epoch 54/200\n",
            "1741/1741 [==============================] - 4s 2ms/step - loss: 0.4974 - accuracy: 0.7534\n",
            "Epoch 55/200\n",
            "1741/1741 [==============================] - 3s 2ms/step - loss: 0.4971 - accuracy: 0.7490\n",
            "Epoch 56/200\n",
            "1741/1741 [==============================] - 3s 2ms/step - loss: 0.4966 - accuracy: 0.7545\n",
            "Epoch 57/200\n",
            "1741/1741 [==============================] - 3s 2ms/step - loss: 0.4946 - accuracy: 0.7503\n",
            "Epoch 58/200\n",
            "1741/1741 [==============================] - 4s 2ms/step - loss: 0.4933 - accuracy: 0.7555\n",
            "Epoch 59/200\n",
            "1741/1741 [==============================] - 3s 2ms/step - loss: 0.4926 - accuracy: 0.7528\n",
            "Epoch 60/200\n",
            "1741/1741 [==============================] - 4s 2ms/step - loss: 0.4901 - accuracy: 0.7586\n",
            "Epoch 61/200\n",
            "1741/1741 [==============================] - 4s 2ms/step - loss: 0.4918 - accuracy: 0.7503\n",
            "Epoch 62/200\n",
            "1741/1741 [==============================] - 3s 2ms/step - loss: 0.4911 - accuracy: 0.7548\n",
            "Epoch 63/200\n",
            "1741/1741 [==============================] - 3s 2ms/step - loss: 0.4890 - accuracy: 0.7561\n",
            "Epoch 64/200\n",
            "1741/1741 [==============================] - 3s 2ms/step - loss: 0.4906 - accuracy: 0.7521\n",
            "Epoch 65/200\n",
            "1741/1741 [==============================] - 3s 2ms/step - loss: 0.4887 - accuracy: 0.7595\n",
            "Epoch 66/200\n",
            "1741/1741 [==============================] - 3s 2ms/step - loss: 0.4883 - accuracy: 0.7547\n",
            "Epoch 67/200\n",
            "1741/1741 [==============================] - 3s 2ms/step - loss: 0.4874 - accuracy: 0.7565\n",
            "Epoch 68/200\n",
            "1741/1741 [==============================] - 3s 2ms/step - loss: 0.4875 - accuracy: 0.7579\n",
            "Epoch 69/200\n",
            "1741/1741 [==============================] - 3s 2ms/step - loss: 0.4852 - accuracy: 0.7574\n",
            "Epoch 70/200\n",
            "1741/1741 [==============================] - 4s 2ms/step - loss: 0.4862 - accuracy: 0.7596\n",
            "Epoch 71/200\n",
            "1741/1741 [==============================] - 3s 2ms/step - loss: 0.4854 - accuracy: 0.7591\n",
            "Epoch 72/200\n",
            "1741/1741 [==============================] - 3s 2ms/step - loss: 0.4836 - accuracy: 0.7627\n",
            "Epoch 73/200\n",
            "1741/1741 [==============================] - 3s 2ms/step - loss: 0.4829 - accuracy: 0.7634\n",
            "Epoch 74/200\n",
            "1741/1741 [==============================] - 3s 2ms/step - loss: 0.4842 - accuracy: 0.7636\n",
            "Epoch 75/200\n",
            "1741/1741 [==============================] - 3s 2ms/step - loss: 0.4845 - accuracy: 0.7632\n",
            "Epoch 76/200\n",
            "1741/1741 [==============================] - 3s 2ms/step - loss: 0.4816 - accuracy: 0.7621\n",
            "Epoch 77/200\n",
            "1741/1741 [==============================] - 3s 2ms/step - loss: 0.4813 - accuracy: 0.7652\n",
            "Epoch 78/200\n",
            "1741/1741 [==============================] - 3s 2ms/step - loss: 0.4804 - accuracy: 0.7594\n",
            "Epoch 79/200\n",
            "1741/1741 [==============================] - 3s 2ms/step - loss: 0.4800 - accuracy: 0.7635\n",
            "Epoch 80/200\n",
            "1741/1741 [==============================] - 3s 2ms/step - loss: 0.4778 - accuracy: 0.7671\n",
            "Epoch 81/200\n",
            "1741/1741 [==============================] - 3s 2ms/step - loss: 0.4802 - accuracy: 0.7630\n",
            "Epoch 82/200\n",
            "1741/1741 [==============================] - 4s 2ms/step - loss: 0.4794 - accuracy: 0.7671\n",
            "Epoch 83/200\n",
            "1741/1741 [==============================] - 3s 2ms/step - loss: 0.4771 - accuracy: 0.7666\n",
            "Epoch 84/200\n",
            "1741/1741 [==============================] - 4s 2ms/step - loss: 0.4782 - accuracy: 0.7651\n",
            "Epoch 85/200\n",
            "1741/1741 [==============================] - 3s 2ms/step - loss: 0.4780 - accuracy: 0.7665\n",
            "Epoch 86/200\n",
            "1741/1741 [==============================] - 3s 2ms/step - loss: 0.4764 - accuracy: 0.7667\n",
            "Epoch 87/200\n",
            "1741/1741 [==============================] - 4s 2ms/step - loss: 0.4773 - accuracy: 0.7652\n",
            "Epoch 88/200\n",
            "1741/1741 [==============================] - 4s 2ms/step - loss: 0.4755 - accuracy: 0.7668\n",
            "Epoch 89/200\n",
            "1741/1741 [==============================] - 3s 2ms/step - loss: 0.4755 - accuracy: 0.7630\n",
            "Epoch 90/200\n",
            "1741/1741 [==============================] - 3s 2ms/step - loss: 0.4753 - accuracy: 0.7679\n",
            "Epoch 91/200\n",
            "1741/1741 [==============================] - 3s 2ms/step - loss: 0.4761 - accuracy: 0.7668\n",
            "Epoch 92/200\n",
            "1741/1741 [==============================] - 3s 2ms/step - loss: 0.4749 - accuracy: 0.7706\n",
            "Epoch 93/200\n",
            "1741/1741 [==============================] - 3s 2ms/step - loss: 0.4749 - accuracy: 0.7691\n",
            "Epoch 94/200\n",
            "1741/1741 [==============================] - 3s 2ms/step - loss: 0.4737 - accuracy: 0.7692\n",
            "Epoch 95/200\n",
            "1741/1741 [==============================] - 4s 2ms/step - loss: 0.4736 - accuracy: 0.7684\n",
            "Epoch 96/200\n",
            "1741/1741 [==============================] - 3s 2ms/step - loss: 0.4719 - accuracy: 0.7704\n",
            "Epoch 97/200\n",
            "1741/1741 [==============================] - 3s 2ms/step - loss: 0.4722 - accuracy: 0.7730\n",
            "Epoch 98/200\n",
            "1741/1741 [==============================] - 3s 2ms/step - loss: 0.4717 - accuracy: 0.7687\n",
            "Epoch 99/200\n",
            "1741/1741 [==============================] - 3s 2ms/step - loss: 0.4735 - accuracy: 0.7686\n",
            "Epoch 100/200\n",
            "1741/1741 [==============================] - 3s 2ms/step - loss: 0.4728 - accuracy: 0.7675\n",
            "Epoch 101/200\n",
            "1741/1741 [==============================] - 3s 2ms/step - loss: 0.4732 - accuracy: 0.7679\n",
            "Epoch 102/200\n",
            "1741/1741 [==============================] - 3s 2ms/step - loss: 0.4711 - accuracy: 0.7690\n",
            "Epoch 103/200\n",
            "1741/1741 [==============================] - 3s 2ms/step - loss: 0.4704 - accuracy: 0.7686\n",
            "Epoch 104/200\n",
            "1741/1741 [==============================] - 3s 2ms/step - loss: 0.4694 - accuracy: 0.7727\n",
            "Epoch 105/200\n",
            "1741/1741 [==============================] - 3s 2ms/step - loss: 0.4705 - accuracy: 0.7763\n",
            "Epoch 106/200\n",
            "1741/1741 [==============================] - 4s 2ms/step - loss: 0.4721 - accuracy: 0.7691\n",
            "Epoch 107/200\n",
            "1741/1741 [==============================] - 3s 2ms/step - loss: 0.4696 - accuracy: 0.7710\n",
            "Epoch 108/200\n",
            "1741/1741 [==============================] - 3s 2ms/step - loss: 0.4690 - accuracy: 0.7718\n",
            "Epoch 109/200\n",
            "1741/1741 [==============================] - 3s 2ms/step - loss: 0.4691 - accuracy: 0.7733\n",
            "Epoch 110/200\n",
            "1741/1741 [==============================] - 3s 2ms/step - loss: 0.4708 - accuracy: 0.7720\n",
            "Epoch 111/200\n",
            "1741/1741 [==============================] - 3s 2ms/step - loss: 0.4687 - accuracy: 0.7696\n",
            "Epoch 112/200\n",
            "1741/1741 [==============================] - 3s 2ms/step - loss: 0.4692 - accuracy: 0.7722\n",
            "Epoch 113/200\n",
            "1741/1741 [==============================] - 3s 2ms/step - loss: 0.4699 - accuracy: 0.7688\n",
            "Epoch 114/200\n",
            "1741/1741 [==============================] - 3s 2ms/step - loss: 0.4686 - accuracy: 0.7773\n",
            "Epoch 115/200\n",
            "1741/1741 [==============================] - 4s 2ms/step - loss: 0.4698 - accuracy: 0.7696\n",
            "Epoch 116/200\n",
            "1741/1741 [==============================] - 4s 2ms/step - loss: 0.4665 - accuracy: 0.7757\n",
            "Epoch 117/200\n",
            "1741/1741 [==============================] - 3s 2ms/step - loss: 0.4676 - accuracy: 0.7768\n",
            "Epoch 118/200\n",
            "1741/1741 [==============================] - 4s 2ms/step - loss: 0.4698 - accuracy: 0.7712\n",
            "Epoch 119/200\n",
            "1741/1741 [==============================] - 3s 2ms/step - loss: 0.4678 - accuracy: 0.7744\n",
            "Epoch 120/200\n",
            "1741/1741 [==============================] - 4s 2ms/step - loss: 0.4679 - accuracy: 0.7751\n",
            "Epoch 121/200\n",
            "1741/1741 [==============================] - 4s 2ms/step - loss: 0.4651 - accuracy: 0.7742\n",
            "Epoch 122/200\n",
            "1741/1741 [==============================] - 3s 2ms/step - loss: 0.4678 - accuracy: 0.7738\n",
            "Epoch 123/200\n",
            "1741/1741 [==============================] - 4s 2ms/step - loss: 0.4673 - accuracy: 0.7746\n",
            "Epoch 124/200\n",
            "1741/1741 [==============================] - 4s 2ms/step - loss: 0.4656 - accuracy: 0.7742\n",
            "Epoch 125/200\n",
            "1741/1741 [==============================] - 4s 2ms/step - loss: 0.4658 - accuracy: 0.7719\n",
            "Epoch 126/200\n",
            "1741/1741 [==============================] - 3s 2ms/step - loss: 0.4644 - accuracy: 0.7744\n",
            "Epoch 127/200\n",
            "1741/1741 [==============================] - 3s 2ms/step - loss: 0.4678 - accuracy: 0.7727\n",
            "Epoch 128/200\n",
            "1741/1741 [==============================] - 4s 2ms/step - loss: 0.4657 - accuracy: 0.7751\n",
            "Epoch 129/200\n",
            "1741/1741 [==============================] - 3s 2ms/step - loss: 0.4647 - accuracy: 0.7767\n",
            "Epoch 130/200\n",
            "1741/1741 [==============================] - 3s 2ms/step - loss: 0.4675 - accuracy: 0.7732\n",
            "Epoch 131/200\n",
            "1741/1741 [==============================] - 3s 2ms/step - loss: 0.4645 - accuracy: 0.7730\n",
            "Epoch 132/200\n",
            "1741/1741 [==============================] - 3s 2ms/step - loss: 0.4639 - accuracy: 0.7745\n",
            "Epoch 133/200\n",
            "1741/1741 [==============================] - 4s 2ms/step - loss: 0.4632 - accuracy: 0.7773\n",
            "Epoch 134/200\n",
            "1741/1741 [==============================] - 3s 2ms/step - loss: 0.4646 - accuracy: 0.7788\n",
            "Epoch 135/200\n",
            "1741/1741 [==============================] - 4s 2ms/step - loss: 0.4641 - accuracy: 0.7757\n",
            "Epoch 136/200\n",
            "1741/1741 [==============================] - 4s 2ms/step - loss: 0.4641 - accuracy: 0.7740\n",
            "Epoch 137/200\n",
            "1741/1741 [==============================] - 3s 2ms/step - loss: 0.4632 - accuracy: 0.7772\n",
            "Epoch 138/200\n",
            "1741/1741 [==============================] - 4s 2ms/step - loss: 0.4616 - accuracy: 0.7767\n",
            "Epoch 139/200\n",
            "1741/1741 [==============================] - 4s 2ms/step - loss: 0.4647 - accuracy: 0.7775\n",
            "Epoch 140/200\n",
            "1741/1741 [==============================] - 3s 2ms/step - loss: 0.4632 - accuracy: 0.7787\n",
            "Epoch 141/200\n",
            "1741/1741 [==============================] - 3s 2ms/step - loss: 0.4602 - accuracy: 0.7819\n",
            "Epoch 142/200\n",
            "1741/1741 [==============================] - 3s 2ms/step - loss: 0.4622 - accuracy: 0.7782\n",
            "Epoch 143/200\n",
            "1741/1741 [==============================] - 3s 2ms/step - loss: 0.4625 - accuracy: 0.7741\n",
            "Epoch 144/200\n",
            "1741/1741 [==============================] - 3s 2ms/step - loss: 0.4636 - accuracy: 0.7794\n",
            "Epoch 145/200\n",
            "1741/1741 [==============================] - 3s 2ms/step - loss: 0.4645 - accuracy: 0.7753\n",
            "Epoch 146/200\n",
            "1741/1741 [==============================] - 3s 2ms/step - loss: 0.4618 - accuracy: 0.7753\n",
            "Epoch 147/200\n",
            "1741/1741 [==============================] - 3s 2ms/step - loss: 0.4608 - accuracy: 0.7779\n",
            "Epoch 148/200\n",
            "1741/1741 [==============================] - 3s 2ms/step - loss: 0.4615 - accuracy: 0.7735\n",
            "Epoch 149/200\n",
            "1741/1741 [==============================] - 3s 2ms/step - loss: 0.4600 - accuracy: 0.7794\n",
            "Epoch 150/200\n",
            "1741/1741 [==============================] - 4s 2ms/step - loss: 0.4602 - accuracy: 0.7764\n",
            "Epoch 151/200\n",
            "1741/1741 [==============================] - 3s 2ms/step - loss: 0.4609 - accuracy: 0.7767\n",
            "Epoch 152/200\n",
            "1741/1741 [==============================] - 3s 2ms/step - loss: 0.4624 - accuracy: 0.7767\n",
            "Epoch 153/200\n",
            "1741/1741 [==============================] - 3s 2ms/step - loss: 0.4606 - accuracy: 0.7784\n",
            "Epoch 154/200\n",
            "1741/1741 [==============================] - 3s 2ms/step - loss: 0.4611 - accuracy: 0.7734\n",
            "Epoch 155/200\n",
            "1741/1741 [==============================] - 3s 2ms/step - loss: 0.4603 - accuracy: 0.7789\n",
            "Epoch 156/200\n",
            "1741/1741 [==============================] - 4s 2ms/step - loss: 0.4586 - accuracy: 0.7768\n",
            "Epoch 157/200\n",
            "1741/1741 [==============================] - 3s 2ms/step - loss: 0.4586 - accuracy: 0.7823\n",
            "Epoch 158/200\n",
            "1741/1741 [==============================] - 4s 2ms/step - loss: 0.4602 - accuracy: 0.7757\n",
            "Epoch 159/200\n",
            "1741/1741 [==============================] - 4s 2ms/step - loss: 0.4597 - accuracy: 0.7745\n",
            "Epoch 160/200\n",
            "1741/1741 [==============================] - 3s 2ms/step - loss: 0.4590 - accuracy: 0.7827\n",
            "Epoch 161/200\n",
            "1741/1741 [==============================] - 4s 2ms/step - loss: 0.4588 - accuracy: 0.7768\n",
            "Epoch 162/200\n",
            "1741/1741 [==============================] - 4s 2ms/step - loss: 0.4585 - accuracy: 0.7811\n",
            "Epoch 163/200\n",
            "1741/1741 [==============================] - 3s 2ms/step - loss: 0.4582 - accuracy: 0.7792\n",
            "Epoch 164/200\n",
            "1741/1741 [==============================] - 3s 2ms/step - loss: 0.4586 - accuracy: 0.7828\n",
            "Epoch 165/200\n",
            "1741/1741 [==============================] - 3s 2ms/step - loss: 0.4576 - accuracy: 0.7826\n",
            "Epoch 166/200\n",
            "1741/1741 [==============================] - 4s 2ms/step - loss: 0.4593 - accuracy: 0.7778\n",
            "Epoch 167/200\n",
            "1741/1741 [==============================] - 3s 2ms/step - loss: 0.4584 - accuracy: 0.7745\n",
            "Epoch 168/200\n",
            "1741/1741 [==============================] - 4s 2ms/step - loss: 0.4585 - accuracy: 0.7784\n",
            "Epoch 169/200\n",
            "1741/1741 [==============================] - 3s 2ms/step - loss: 0.4570 - accuracy: 0.7809\n",
            "Epoch 170/200\n",
            "1741/1741 [==============================] - 4s 2ms/step - loss: 0.4582 - accuracy: 0.7774\n",
            "Epoch 171/200\n",
            "1741/1741 [==============================] - 3s 2ms/step - loss: 0.4565 - accuracy: 0.7761\n",
            "Epoch 172/200\n",
            "1741/1741 [==============================] - 3s 2ms/step - loss: 0.4576 - accuracy: 0.7797\n",
            "Epoch 173/200\n",
            "1741/1741 [==============================] - 3s 2ms/step - loss: 0.4576 - accuracy: 0.7783\n",
            "Epoch 174/200\n",
            "1741/1741 [==============================] - 3s 2ms/step - loss: 0.4577 - accuracy: 0.7797\n",
            "Epoch 175/200\n",
            "1741/1741 [==============================] - 3s 2ms/step - loss: 0.4572 - accuracy: 0.7833\n",
            "Epoch 176/200\n",
            "1741/1741 [==============================] - 3s 2ms/step - loss: 0.4550 - accuracy: 0.7788\n",
            "Epoch 177/200\n",
            "1741/1741 [==============================] - 3s 2ms/step - loss: 0.4574 - accuracy: 0.7797\n",
            "Epoch 178/200\n",
            "1741/1741 [==============================] - 3s 2ms/step - loss: 0.4582 - accuracy: 0.7807\n",
            "Epoch 179/200\n",
            "1741/1741 [==============================] - 3s 2ms/step - loss: 0.4575 - accuracy: 0.7779\n",
            "Epoch 180/200\n",
            "1741/1741 [==============================] - 4s 2ms/step - loss: 0.4540 - accuracy: 0.7826\n",
            "Epoch 181/200\n",
            "1741/1741 [==============================] - 4s 2ms/step - loss: 0.4558 - accuracy: 0.7842\n",
            "Epoch 182/200\n",
            "1741/1741 [==============================] - 3s 2ms/step - loss: 0.4552 - accuracy: 0.7812\n",
            "Epoch 183/200\n",
            "1741/1741 [==============================] - 3s 2ms/step - loss: 0.4538 - accuracy: 0.7826\n",
            "Epoch 184/200\n",
            "1741/1741 [==============================] - 3s 2ms/step - loss: 0.4566 - accuracy: 0.7842\n",
            "Epoch 185/200\n",
            "1741/1741 [==============================] - 3s 2ms/step - loss: 0.4553 - accuracy: 0.7797\n",
            "Epoch 186/200\n",
            "1741/1741 [==============================] - 3s 2ms/step - loss: 0.4561 - accuracy: 0.7799\n",
            "Epoch 187/200\n",
            "1741/1741 [==============================] - 3s 2ms/step - loss: 0.4542 - accuracy: 0.7844\n",
            "Epoch 188/200\n",
            "1741/1741 [==============================] - 3s 2ms/step - loss: 0.4539 - accuracy: 0.7850\n",
            "Epoch 189/200\n",
            "1741/1741 [==============================] - 3s 2ms/step - loss: 0.4571 - accuracy: 0.7803\n",
            "Epoch 190/200\n",
            "1741/1741 [==============================] - 3s 2ms/step - loss: 0.4530 - accuracy: 0.7844\n",
            "Epoch 191/200\n",
            "1741/1741 [==============================] - 3s 2ms/step - loss: 0.4550 - accuracy: 0.7803\n",
            "Epoch 192/200\n",
            "1741/1741 [==============================] - 3s 2ms/step - loss: 0.4516 - accuracy: 0.7828\n",
            "Epoch 193/200\n",
            "1741/1741 [==============================] - 3s 2ms/step - loss: 0.4535 - accuracy: 0.7833\n",
            "Epoch 194/200\n",
            "1741/1741 [==============================] - 3s 2ms/step - loss: 0.4560 - accuracy: 0.7799\n",
            "Epoch 195/200\n",
            "1741/1741 [==============================] - 3s 2ms/step - loss: 0.4536 - accuracy: 0.7820\n",
            "Epoch 196/200\n",
            "1741/1741 [==============================] - 3s 2ms/step - loss: 0.4536 - accuracy: 0.7860\n",
            "Epoch 197/200\n",
            "1741/1741 [==============================] - 3s 2ms/step - loss: 0.4543 - accuracy: 0.7788\n",
            "Epoch 198/200\n",
            "1741/1741 [==============================] - 3s 2ms/step - loss: 0.4524 - accuracy: 0.7825\n",
            "Epoch 199/200\n",
            "1741/1741 [==============================] - 3s 2ms/step - loss: 0.4538 - accuracy: 0.7818\n",
            "Epoch 200/200\n",
            "1741/1741 [==============================] - 3s 2ms/step - loss: 0.4533 - accuracy: 0.7846\n",
            "INFO:tensorflow:Assets written to: ram://4a312a97-cf88-46e6-b41f-0e2a6fc6a34b/assets\n"
          ]
        }
      ],
      "source": [
        "#now fit training data\n",
        "fitted = pipeline.fit(x1, encoded_y1)\n",
        "filename = 'finalized_model_gender.sav'\n",
        "joblib.dump(pipeline, filename)\n",
        "predicted = pipeline.predict(x1)"
      ]
    },
    {
      "cell_type": "code",
      "execution_count": null,
      "metadata": {
        "colab": {
          "base_uri": "https://localhost:8080/"
        },
        "id": "cP9QcwPx6pJz",
        "outputId": "3ed4404a-c190-40ee-ff71-05b901f23d91"
      },
      "outputs": [
        {
          "name": "stdout",
          "output_type": "stream",
          "text": [
            "[[0]]\n",
            "[[1]]\n",
            "[[1]]\n",
            "[[1]]\n",
            "[[1]]\n",
            "[[1]]\n",
            "[[1]]\n",
            "[[1]]\n",
            "[[1]]\n",
            "[[1]]\n",
            "[[1]]\n",
            "[[1]]\n",
            "[[1]]\n",
            "[[1]]\n",
            "[[1]]\n",
            "[[1]]\n",
            "[[1]]\n",
            "[[1]]\n",
            "[[1]]\n",
            "[[1]]\n",
            "[[1]]\n",
            "[[1]]\n",
            "[[1]]\n",
            "[[1]]\n",
            "[[1]]\n",
            "[[1]]\n",
            "[[1]]\n"
          ]
        }
      ],
      "source": [
        "for i in range(27):\n",
        "    print(pipeline.predict([[i,i,i,i,i,i,i,i,i,i,i,i,i]]))"
      ]
    },
    {
      "cell_type": "code",
      "execution_count": null,
      "metadata": {
        "id": "JVjYNOGs6pJz"
      },
      "outputs": [],
      "source": [
        "import csv\n",
        "from sklearn import preprocessing\n",
        "def get_data():\n",
        "    excel_file = []\n",
        "    with open(\"/content/drive/MyDrive/spotify-neural-network-master/all_artist.csv\", newline='', encoding='utf-8-sig') as csvfile:\n",
        "        has_header = csv.Sniffer().has_header(csvfile.readline())\n",
        "        csvfile.seek(0)  # Rewind.\n",
        "        reader = csv.reader(csvfile)\n",
        "        if has_header:\n",
        "            next(reader)\n",
        "        for row in reader:\n",
        "            excel_file.append([row[0], row[1], float(row[3]), float(row[4]), float(row[5]), float(row[6]), float(row[7]), float(row[8]), \n",
        "                                   float(row[9]), float(row[10]), float(row[11]), float(row[12]), float(row[13]), \n",
        "                                   float(row[14]), float(row[15])])\n",
        "    return excel_file\n",
        "\n",
        "def sounds_closest_to(f):\n",
        "    durationMM = [5000, 299880.0]\n",
        "    keyMM = [0, 11]\n",
        "    modeMM = [0, 1]\n",
        "    time_sigMM = [0, 5]\n",
        "    acousticnessMM = [0, 0.995]\n",
        "    danceabilityMM = [0.0, 0.954]\n",
        "    energyMM = [0.0116, 0.999]\n",
        "    instrumentalnessMM = [0.0, 0.989]\n",
        "    livenessMM = [0.0, 0.987]\n",
        "    loudnessMM = [-29.375, -0.005]\n",
        "    speechinessMM = [0.0, 0.955]\n",
        "    valenceMM = [0.0, 0.978]\n",
        "    tempoMM = [0.0, 248.052]\n",
        "    mm = [durationMM, keyMM, modeMM, time_sigMM, acousticnessMM, danceabilityMM, energyMM, instrumentalnessMM, livenessMM,\n",
        "          loudnessMM, speechinessMM, valenceMM, tempoMM]\n",
        "    artists = get_data()\n",
        "    least_squares = []\n",
        "    for artist in artists:\n",
        "        ls = 0\n",
        "        for i in range(len(f)):\n",
        "            ls += (normalize(f[i], mm[i]) - normalize(artist[i+2], mm[i]))**2\n",
        "        least_squares.append(ls)\n",
        "    indexOfMin = least_squares.index(min(least_squares))\n",
        "    return artists[indexOfMin][0]\n",
        "\n",
        "def normalize(x, mm):\n",
        "    z = (x-mm[0])/(mm[1] - mm[0])\n",
        "    return z"
      ]
    },
    {
      "cell_type": "code",
      "execution_count": null,
      "metadata": {
        "colab": {
          "base_uri": "https://localhost:8080/",
          "height": 35
        },
        "id": "pR9QiexM6pJ0",
        "outputId": "28c2ab50-8603-4a58-b479-456256b00e8f"
      },
      "outputs": [
        {
          "data": {
            "application/vnd.google.colaboratory.intrinsic+json": {
              "type": "string"
            },
            "text/plain": [
              "\"DON'T STOP THE MUSIC - 2012 NEW EVOLUTION in Japan ver.\""
            ]
          },
          "execution_count": 16,
          "metadata": {},
          "output_type": "execute_result"
        }
      ],
      "source": [
        "sounds_closest_to([306187,10,0,4,0.00467,0.771,0.894,0,0.349,-4.981,0.0367,0.584,120.003])"
      ]
    },
    {
      "cell_type": "code",
      "execution_count": null,
      "metadata": {
        "id": "Oq1HJrdE6pJ0",
        "scrolled": true
      },
      "outputs": [],
      "source": [
        "from keras.models import Sequential\n",
        "from keras.layers import Dense\n",
        "from keras.wrappers.scikit_learn import KerasRegressor\n",
        "from sklearn.model_selection import cross_val_score\n",
        "from sklearn.model_selection import KFold\n",
        "\n",
        "def create_baseline_regression():\n",
        "\n",
        "    model = Sequential()\n",
        "    model.add(Dense(13, input_dim=13, kernel_initializer='normal', activation='relu'))\n",
        "    model.add(Dense(1, kernel_initializer='normal'))\n",
        "    # Compile model\n",
        "    model.compile(loss='mean_squared_error', optimizer='adam')\n",
        "    return model\n",
        "\n",
        "#estimators = []\n",
        "#estimators.append(('standardize', StandardScaler()))\n",
        "#estimators.append(('mlp', KerasRegressor(build_fn=create_baseline_regression, epochs=50, batch_size=5, verbose=1)))\n",
        "#pipeline = Pipeline(estimators)\n",
        "#pipeline.fit(x2, y2)"
      ]
    },
    {
      "cell_type": "code",
      "execution_count": null,
      "metadata": {
        "colab": {
          "base_uri": "https://localhost:8080/"
        },
        "id": "rb2yyKpS6pJ1",
        "outputId": "694e2814-ddd1-48d3-b62b-b5cb460a1140"
      },
      "outputs": [
        {
          "data": {
            "text/plain": [
              "array([[1],\n",
              "       [1],\n",
              "       [1],\n",
              "       ...,\n",
              "       [0],\n",
              "       [0],\n",
              "       [0]])"
            ]
          },
          "execution_count": 18,
          "metadata": {},
          "output_type": "execute_result"
        }
      ],
      "source": [
        "pipeline.predict(x1)"
      ]
    },
    {
      "cell_type": "code",
      "execution_count": null,
      "metadata": {
        "id": "VrT_ERVt6pJ2"
      },
      "outputs": [],
      "source": [
        "import csv\n",
        "import matplotlib.pyplot as plt\n",
        "import numpy as np\n",
        "from matplotlib.patches import Rectangle\n",
        "\n",
        "artists = [\"BTS\", \"Stray Kids\", \"EXO\", \"Monsta X\", \"NCT 127\", \"SEVENTEEN\", \"BLACKPINK\", \"GOT7\", \"ATEEZ\", \"NCT Dream\", \"TWICE\",\n",
        "            \"SHINee\", \"LOONA\", \"DAY6\", \"Mamamoo\", \"iKON\", \"The Boyz\", \"ITZY\", \"Dreamcatcher\", \"VIXX\", \"Sunmi\", \"Super Junior\",\n",
        "            \"SuperM\", \"X1\", \"Chung Ha\", \"Tomorrow x Together\",  \"GFriend\", \"HyunA\", \"Girls' Generation\", \"B.A.P\", \"BIGBANG\",\n",
        "            \"EXID\", \"IU\", \"A.C.E\", \"WINNER\", \"IZ ONE\", \"f(x)\", \"Wanna One\", \"Everglow\", \"OneUs\", \"Cosmic Girls\", \n",
        "            \"NU EST\", \"TVXQ\", \"(G)I-DLE\", \"Momoland\", \"BtoB\", \"2NE1\", \"INFINITE\", \"OH MY GIRL\", \"S.E.S.\", \"Baby Vox\", \n",
        "            \"Girl’s Day\", \"I.O.I\", \"Apink\", \"Miss A\", \"Brown Eyed Girls\", \"Wonder Girls\", \"Sistar\", \"Lovelyz\", \"CLC\", \"AOA\",\n",
        "            \"HELLOVENUS\", \"TAEYEON\", \"Ailee\", \"HEIZE\", \"Jeong Eun Ji\", \"Fromis_9\", \"Weki Meki\", \"Bolbbalgan4\", \"Gugudan\"]\n",
        "\n",
        "guys = [\"BTS\", \"Stray Kids\", \"EXO\", \"Monsta X\", \"NCT 127\", \"SEVENTEEN\", \"GOT7\", \"ATEEZ\", \"NCT Dream\", \"SHINee\", \"DAY6\", \n",
        "        \"iKON\", \"The Boyz\", \"VIXX\", \"Super Junior\", \"SuperM\", \"X1\", \"Tomorrow x Together\", \"B.A.P\", \"BIGBANG\", \"A.C.E\", \n",
        "        \"WINNER\", \"Wanna One\", \"OneUs\", \"NU EST\", \"TVXQ\", \"BtoB\", \"INFINITE\"]\n",
        "\n",
        "girls = ['BLACKPINK', 'TWICE', 'LOONA', 'Mamamoo', 'ITZY', 'Dreamcatcher', 'Sunmi', 'Chung Ha', 'GFriend', 'HyunA',\n",
        "         \"Girls' Generation\", 'EXID', 'IU', 'IZ ONE', 'f(x)', 'Everglow', 'Cosmic Girls', '(G)I-DLE', 'Momoland',\n",
        "         '2NE1', 'OH MY GIRL', \"S.E.S.\", \"Baby Vox\", \"Girl’s Day\", \"I.O.I\", \"Apink\", \"Miss A\", \"Brown Eyed Girls\", \n",
        "         \"Wonder Girls\", \"Sistar\", \"Lovelyz\", \"CLC\", \"AOA\", \"HELLOVENUS\", \"TAEYEON\", \"Ailee\", \"HEIZE\", \"Jeong Eun Ji\",\n",
        "         \"Fromis_9\", \"Weki Meki\", \"Bolbbalgan4\", \"Gugudan\"]\n",
        "\n",
        "name = []\n",
        "duration = []\n",
        "key = []\n",
        "mode = []\n",
        "time_sig = []\n",
        "acousticness = []\n",
        "danceability = []\n",
        "energy = []\n",
        "instrumentalness = []\n",
        "liveness = []\n",
        "loudness = []\n",
        "speechiness = []\n",
        "valence = []\n",
        "tempo = []\n",
        "gender = []\n",
        "group = []\n",
        "popularity = []\n",
        "\n",
        "def compile_all_artists():\n",
        "    for artist in artists:\n",
        "        if artist in guys:\n",
        "            group_gender = 'M'\n",
        "        else:\n",
        "            group_gender = 'F'\n",
        "            with open(path_to_artist_info + 'all_artist' + \".csv\", newline='', encoding='utf-8-sig') as csvfile:\n",
        "              has_header = csv.Sniffer().has_header(csvfile.readline())\n",
        "              csvfile.seek(0)  # Rewind.\n",
        "              reader = csv.reader(csvfile)\n",
        "              if has_header:\n",
        "                next(reader)\n",
        "                for row in reader:\n",
        "                  if float(row[3]) < 300000:\n",
        "                    name.append(row[0])\n",
        "                    group.append(artist)\n",
        "                    gender.append(group_gender)\n",
        "                    duration.append(float(row[3]))\n",
        "                    key.append(float(row[4]))\n",
        "                    mode.append(float(row[5]))\n",
        "                    time_sig.append(float(row[6]))\n",
        "                    acousticness.append(float(row[7]))\n",
        "                    danceability.append(float(row[8]))\n",
        "                    energy.append(float(row[9]))\n",
        "                    instrumentalness.append(float(row[10]))\n",
        "                    liveness.append(float(row[11]))\n",
        "                    loudness.append(float(row[12]))\n",
        "                    speechiness.append(float(row[13]))\n",
        "                    valence.append(float(row[14]))\n",
        "                    tempo.append(float(row[15]))\n",
        "                    popularity.append(float(row[16]))"
      ]
    },
    {
      "cell_type": "code",
      "execution_count": null,
      "metadata": {
        "id": "WCFu4YTWMe2R"
      },
      "outputs": [],
      "source": [
        "compile_all_artists()"
      ]
    },
    {
      "cell_type": "code",
      "execution_count": null,
      "metadata": {
        "colab": {
          "base_uri": "https://localhost:8080/",
          "height": 312
        },
        "id": "wpTeYDP8MjM0",
        "outputId": "e902921e-6ace-4e66-98c0-f6a27cc3a37a"
      },
      "outputs": [
        {
          "name": "stdout",
          "output_type": "stream",
          "text": [
            "0.017 0.0\n"
          ]
        },
        {
          "data": {
            "image/png": "[encoded data removed]",
            "text/plain": [
              "<Figure size 432x288 with 1 Axes>"
            ]
          },
          "metadata": {
            "needs_background": "light"
          },
          "output_type": "display_data"
        }
      ],
      "source": [
        "fig = plt.figure()\n",
        "ax = fig.add_subplot(111)\n",
        "p = 'Popularity'\n",
        "\n",
        "x = duration\n",
        "y = popularity\n",
        "\n",
        "r = round(np.corrcoef(x, y)[0][1], 3)\n",
        "r2 = round(np.corrcoef(x, y)[0][1]**2, 3)\n",
        "print(r, r2)\n",
        "\n",
        "plt.scatter(x,y, marker='x')\n",
        "\n",
        "plt.plot(np.unique(x), np.poly1d(np.polyfit(x, y, 1))(np.unique(x)), color=\"red\", label=\"Line of Best Fit\")\n",
        "\n",
        "plt.title(p + ' vs. Duration (MS)')\n",
        "plt.xlabel('Duration (MS)')\n",
        "plt.ylabel(p)\n",
        "\n",
        "plt.plot([], [], ' ', label=\"r = \" + str(r))\n",
        "plt.plot([], [], ' ', label=\"r^2 = \" + str(r2))\n",
        "plt.legend()\n",
        "\n",
        "plt.show()"
      ]
    },
    {
      "cell_type": "code",
      "execution_count": null,
      "metadata": {
        "colab": {
          "base_uri": "https://localhost:8080/",
          "height": 367
        },
        "id": "_WDrx17buxzw",
        "outputId": "abc33337-e234-4e74-ee0d-16b4e65bd46c"
      },
      "outputs": [
        {
          "name": "stdout",
          "output_type": "stream",
          "text": [
            "0.016 0.0\n"
          ]
        },
        {
          "name": "stderr",
          "output_type": "stream",
          "text": [
            "/usr/local/lib/python3.7/dist-packages/IPython/core/pylabtools.py:125: UserWarning: Creating legend with loc=\"best\" can be slow with large amounts of data.\n",
            "  fig.canvas.print_figure(bytes_io, **kw)\n"
          ]
        },
        {
          "data": {
            "image/png": "[encoded data removed]",
            "text/plain": [
              "<Figure size 432x288 with 1 Axes>"
            ]
          },
          "metadata": {
            "needs_background": "light"
          },
          "output_type": "display_data"
        }
      ],
      "source": [
        "fig = plt.figure()\n",
        "ax = fig.add_subplot(111)\n",
        "p = 'Popularity'\n",
        "\n",
        "x = key\n",
        "y = popularity\n",
        "\n",
        "r = round(np.corrcoef(x, y)[0][1], 3)\n",
        "r2 = round(np.corrcoef(x, y)[0][1]**2, 3)\n",
        "print(r, r2)\n",
        "\n",
        "plt.scatter(x,y, marker='x')\n",
        "\n",
        "plt.plot(np.unique(x), np.poly1d(np.polyfit(x, y, 1))(np.unique(x)), color=\"red\", label=\"Line of Best Fit\")\n",
        "\n",
        "plt.title(p + ' vs. Key (MS)')\n",
        "plt.xlabel('Duration (MS)')\n",
        "plt.ylabel(p)\n",
        "\n",
        "plt.plot([], [], ' ', label=\"r = \" + str(r))\n",
        "plt.plot([], [], ' ', label=\"r^2 = \" + str(r2))\n",
        "plt.legend()\n",
        "\n",
        "plt.show()"
      ]
    },
    {
      "cell_type": "code",
      "execution_count": null,
      "metadata": {
        "id": "tyhypbsvxF4j"
      },
      "outputs": [],
      "source": []
    },
    {
      "cell_type": "code",
      "execution_count": null,
      "metadata": {
        "colab": {
          "base_uri": "https://localhost:8080/",
          "height": 312
        },
        "id": "u2vNStwUxGIK",
        "outputId": "216d045c-62c7-49e2-a884-1a70bb482bd6"
      },
      "outputs": [
        {
          "name": "stdout",
          "output_type": "stream",
          "text": [
            "0.029 0.001\n"
          ]
        },
        {
          "data": {
            "image/png": "[encoded data removed]",
            "text/plain": [
              "<Figure size 432x288 with 1 Axes>"
            ]
          },
          "metadata": {
            "needs_background": "light"
          },
          "output_type": "display_data"
        }
      ],
      "source": [
        "fig = plt.figure()\n",
        "ax = fig.add_subplot(111)\n",
        "p = 'Popularity'\n",
        "\n",
        "x = danceability\n",
        "y = popularity\n",
        "\n",
        "r = round(np.corrcoef(x, y)[0][1], 3)\n",
        "r2 = round(np.corrcoef(x, y)[0][1]**2, 3)\n",
        "print(r, r2)\n",
        "\n",
        "plt.scatter(x,y, marker='x')\n",
        "\n",
        "plt.plot(np.unique(x), np.poly1d(np.polyfit(x, y, 1))(np.unique(x)), color=\"red\", label=\"Line of Best Fit\")\n",
        "\n",
        "plt.title(p + ' vs. Danceability (MS)')\n",
        "plt.xlabel('Duration (MS)')\n",
        "plt.ylabel(p)\n",
        "\n",
        "plt.plot([], [], ' ', label=\"r = \" + str(r))\n",
        "plt.plot([], [], ' ', label=\"r^2 = \" + str(r2))\n",
        "plt.legend()\n",
        "\n",
        "plt.show()"
      ]
    },
    {
      "cell_type": "code",
      "execution_count": null,
      "metadata": {
        "colab": {
          "base_uri": "https://localhost:8080/",
          "height": 1000
        },
        "id": "T3CGig6_yFzW",
        "outputId": "5e43e72f-0de9-4f10-b3fd-fd103519b83b"
      },
      "outputs": [
        {
          "data": {
            "text/plain": [
              "Text(0.5, 1.0, 'Popularity')"
            ]
          },
          "execution_count": 31,
          "metadata": {},
          "output_type": "execute_result"
        },
        {
          "data": {
            "image/png": "[encoded data removed]",
            "text/plain": [
              "<Figure size 432x288 with 1 Axes>"
            ]
          },
          "metadata": {
            "needs_background": "light"
          },
          "output_type": "display_data"
        },
        {
          "data": {
            "image/png": "[encoded data removed]",
            "text/plain": [
              "<Figure size 432x288 with 1 Axes>"
            ]
          },
          "metadata": {
            "needs_background": "light"
          },
          "output_type": "display_data"
        },
        {
          "data": {
            "image/png": "[encoded data removed]",
            "text/plain": [
              "<Figure size 432x288 with 1 Axes>"
            ]
          },
          "metadata": {
            "needs_background": "light"
          },
          "output_type": "display_data"
        },
        {
          "data": {
            "image/png": "[encoded data removed]",
            "text/plain": [
              "<Figure size 432x288 with 1 Axes>"
            ]
          },
          "metadata": {
            "needs_background": "light"
          },
          "output_type": "display_data"
        },
        {
          "data": {
            "image/png": "[encoded data removed]",
            "text/plain": [
              "<Figure size 432x288 with 1 Axes>"
            ]
          },
          "metadata": {
            "needs_background": "light"
          },
          "output_type": "display_data"
        },
        {
          "data": {
            "image/png": "[encoded data removed]",
            "text/plain": [
              "<Figure size 432x288 with 1 Axes>"
            ]
          },
          "metadata": {
            "needs_background": "light"
          },
          "output_type": "display_data"
        },
        {
          "data": {
            "image/png": "[encoded data removed]",
            "text/plain": [
              "<Figure size 432x288 with 1 Axes>"
            ]
          },
          "metadata": {
            "needs_background": "light"
          },
          "output_type": "display_data"
        },
        {
          "data": {
            "image/png": "[encoded data removed]",
            "text/plain": [
              "<Figure size 432x288 with 1 Axes>"
            ]
          },
          "metadata": {
            "needs_background": "light"
          },
          "output_type": "display_data"
        },
        {
          "data": {
            "image/png": "[encoded data removed]",
            "text/plain": [
              "<Figure size 432x288 with 1 Axes>"
            ]
          },
          "metadata": {
            "needs_background": "light"
          },
          "output_type": "display_data"
        },
        {
          "data": {
            "image/png": "[encoded data removed]",
            "text/plain": [
              "<Figure size 432x288 with 1 Axes>"
            ]
          },
          "metadata": {
            "needs_background": "light"
          },
          "output_type": "display_data"
        },
        {
          "data": {
            "image/png": "[encoded data removed]",
            "text/plain": [
              "<Figure size 432x288 with 1 Axes>"
            ]
          },
          "metadata": {
            "needs_background": "light"
          },
          "output_type": "display_data"
        },
        {
          "data": {
            "image/png": "[encoded data removed]",
            "text/plain": [
              "<Figure size 432x288 with 1 Axes>"
            ]
          },
          "metadata": {
            "needs_background": "light"
          },
          "output_type": "display_data"
        },
        {
          "data": {
            "image/png": "[encoded data removed]",
            "text/plain": [
              "<Figure size 432x288 with 1 Axes>"
            ]
          },
          "metadata": {
            "needs_background": "light"
          },
          "output_type": "display_data"
        }
      ],
      "source": [
        "n_bins = 20\n",
        "fig, axs = plt.subplots(1, 1, sharey=False, tight_layout=False)\n",
        "axs.hist(duration, bins=n_bins)\n",
        "axs.set_title(\"Duration (MS)\")\n",
        "\n",
        "fig2, axs2 = plt.subplots(1, 1, sharey=False, tight_layout=True)\n",
        "axs2.hist(key, bins=n_bins)\n",
        "axs2.set_title(\"Key\")\n",
        "\n",
        "fig3, axs3 = plt.subplots(1, 1, sharey=False, tight_layout=True)\n",
        "axs3.hist(mode, bins=n_bins)\n",
        "axs3.set_title(\"Mode\")\n",
        "\n",
        "fig4, axs4 = plt.subplots(1, 1, sharey=False, tight_layout=True)\n",
        "axs4.hist(time_sig, bins=n_bins)\n",
        "axs4.set_title(\"Time Signature\")\n",
        "\n",
        "fig5, axs5 = plt.subplots(1, 1, sharey=False, tight_layout=True)\n",
        "axs5.hist(acousticness, bins=n_bins)\n",
        "axs5.set_title(\"Acousticness\")\n",
        "\n",
        "fig6, axs6 = plt.subplots(1, 1, sharey=False, tight_layout=True)\n",
        "axs6.hist(danceability, bins=n_bins)\n",
        "axs6.set_title(\"Danceability\")\n",
        "\n",
        "fig7, axs7 = plt.subplots(1, 1, sharey=False, tight_layout=True)\n",
        "axs7.hist(instrumentalness, bins=n_bins)\n",
        "axs7.set_title(\"Instrumentalness\")\n",
        "\n",
        "fig8, axs8 = plt.subplots(1, 1, sharey=False, tight_layout=True)\n",
        "axs8.hist(liveness, bins=n_bins)\n",
        "axs8.set_title(\"Liveness\")\n",
        "\n",
        "fig9, axs9 = plt.subplots(1, 1, sharey=False, tight_layout=True)\n",
        "axs9.hist(loudness, bins=n_bins)\n",
        "axs9.set_title(\"Loudness\")\n",
        "\n",
        "fig10, axs10 = plt.subplots(1, 1, sharey=False, tight_layout=True)\n",
        "axs10.hist(speechiness, bins=n_bins)\n",
        "axs10.set_title(\"Speechiness\")\n",
        "\n",
        "fig11, axs11 = plt.subplots(1, 1, sharey=False, tight_layout=True)\n",
        "axs11.hist(valence, bins=n_bins)\n",
        "axs11.set_title(\"Valence\")\n",
        "\n",
        "fig12, axs12 = plt.subplots(1, 1, sharey=False, tight_layout=True)\n",
        "axs12.hist(tempo, bins=n_bins)\n",
        "axs12.set_title(\"Tempo\")\n",
        "\n",
        "fig13, axs13 = plt.subplots(1, 1, sharey=False, tight_layout=True)\n",
        "axs13.hist(popularity, bins=n_bins)\n",
        "axs13.set_title(\"Popularity\")\n"
      ]
    }
  ],
  "metadata": {
    "colab": {
      "collapsed_sections": [],
      "name": "audio features.ipynb",
      "provenance": []
    },
    "kernelspec": {
      "display_name": "Python 3",
      "language": "python",
      "name": "python3"
    },
    "language_info": {
      "codemirror_mode": {
        "name": "ipython",
        "version": 3
      },
      "file_extension": ".py",
      "mimetype": "text/x-python",
      "name": "python",
      "nbconvert_exporter": "python",
      "pygments_lexer": "ipython3",
      "version": "3.7.3"
    }
  },
  "nbformat": 4,
  "nbformat_minor": 0
}
